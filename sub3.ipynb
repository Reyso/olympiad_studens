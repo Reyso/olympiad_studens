{
 "cells": [
  {
   "cell_type": "markdown",
   "id": "c7437602-84b6-491f-bab8-8beaab7d9643",
   "metadata": {
    "tags": []
   },
   "source": [
    "## Imports e funcs"
   ]
  },
  {
   "cell_type": "code",
   "execution_count": 49,
   "id": "9c644a5b-d280-4b86-ad1a-e85d486dcd66",
   "metadata": {},
   "outputs": [],
   "source": [
    "import pandas as pd\n",
    "import numpy as np\n",
    "\n",
    "\n",
    "from sklearn.model_selection import (\n",
    "    train_test_split, KFold)\n",
    "from sklearn.compose import ColumnTransformer\n",
    "from sklearn.pipeline import Pipeline\n",
    "from sklearn.preprocessing import (\n",
    "    OneHotEncoder, OrdinalEncoder, MinMaxScaler, StandardScaler, LabelEncoder)\n",
    "from sklearn.impute import SimpleImputer\n",
    "\n",
    "\n",
    "\n",
    "from sklearn.linear_model import LogisticRegression\n",
    "from sklearn.tree import DecisionTreeClassifier\n",
    "from sklearn.ensemble import RandomForestClassifier\n",
    "\n",
    "\n",
    "from sklearn.metrics import accuracy_score, precision_score, recall_score, f1_score\n",
    "from sklearn.metrics import fbeta_score\n",
    "from sklearn.metrics import classification_report\n",
    "from sklearn.metrics import roc_auc_score\n",
    "\n",
    "\n",
    "import matplotlib.pyplot as plt\n",
    "import seaborn as sns"
   ]
  },
  {
   "cell_type": "code",
   "execution_count": 50,
   "id": "0726d2b3-42a5-4890-805f-99cf09a1dcd8",
   "metadata": {},
   "outputs": [],
   "source": [
    "\n",
    "def preprocess_data(df, target_column):\n",
    "    X = df.drop(target_column, axis=1)\n",
    "    y = df[target_column]\n",
    "    \n",
    "    # Realizar o encoding das features categóricas, se necessário\n",
    "    # label_encoder = LabelEncoder()\n",
    "    # X['feature_categorica'] = label_encoder.fit_transform(X['feature_categorica'])\n",
    "    \n",
    "    return X, y\n",
    "\n",
    "def split_data(X, y, test_size=0.2, random_state=42):\n",
    "    X_train, X_test, y_train, y_test = train_test_split(X, y, test_size=test_size, random_state=random_state)\n",
    "    return X_train, X_test, y_train, y_test\n",
    "\n",
    "def train_models(X_train, y_train):\n",
    "    # Inicializar os modelos de classificação\n",
    "    models = [\n",
    "        ('Logistic Regression', LogisticRegression()),\n",
    "        ('Decision Tree', DecisionTreeClassifier()),\n",
    "        ('Random Forest', RandomForestClassifier())\n",
    "    ]\n",
    "\n",
    "    trained_models = {}\n",
    "    \n",
    "    # Treinar os modelos\n",
    "    for model_name, model in models:\n",
    "        model.fit(X_train, y_train)\n",
    "        trained_models[model_name] = model\n",
    "    \n",
    "    return trained_models\n",
    "\n",
    "\n",
    "def evaluate_models(trained_models, X_test, y_test):\n",
    "    # Avaliar os modelos\n",
    "    for model_name, model in trained_models.items():\n",
    "        y_pred = model.predict(X_test)\n",
    "        \n",
    "        accuracy = accuracy_score(y_test, y_pred)\n",
    "        precision = precision_score(y_test, y_pred, average='weighted')\n",
    "        recall = recall_score(y_test, y_pred, average='weighted')\n",
    "        f1 = f1_score(y_test, y_pred, average='weighted')\n",
    "        \n",
    "        print(f'Model: {model_name}')\n",
    "        print(f'Accuracy: {accuracy}')\n",
    "        print(f'Precision: {precision}')\n",
    "        print(f'Recall: {recall}')\n",
    "        print(f'F1-Score: {f1}')\n",
    "        print('---')\n"
   ]
  },
  {
   "cell_type": "code",
   "execution_count": 51,
   "id": "cb9f2f2e-f762-4a52-bf19-3562ef565d51",
   "metadata": {},
   "outputs": [],
   "source": [
    "\n",
    "\n",
    "def plotbar(df, x_column, horizontal=False):\n",
    "    counts = df[x_column].value_counts()\n",
    "    \n",
    "    plt.figure(figsize=(10, 6))  # Ajuste o tamanho conforme necessário\n",
    "    \n",
    "    if horizontal:\n",
    "        bars = plt.barh(counts.index, counts.values)\n",
    "        plt.xlabel('Quantidade')\n",
    "        plt.ylabel(x_column)\n",
    "    else:\n",
    "        bars = plt.bar(counts.index, counts.values)\n",
    "        plt.xlabel(x_column)\n",
    "        plt.ylabel('Quantidade')\n",
    "    \n",
    "    plt.title('Gráfico de Barras')\n",
    "    \n",
    "    # Adicionar os valores do eixo y nas barras\n",
    "    for bar in bars:\n",
    "        if horizontal:\n",
    "            width = bar.get_width()\n",
    "            plt.text(width, bar.get_y() + bar.get_height() / 2, str(int(width)), ha='left', va='center')\n",
    "        else:\n",
    "            height = bar.get_height()\n",
    "            plt.text(bar.get_x() + bar.get_width() / 2, height, str(int(height)), ha='center', va='bottom')\n",
    "    \n",
    "    plt.show()\n"
   ]
  },
  {
   "cell_type": "code",
   "execution_count": 52,
   "id": "a6ab8961-c66b-4cbf-a5cc-fe495e95bdd4",
   "metadata": {},
   "outputs": [],
   "source": [
    "def cls_feature(X,max_cat = 10):\n",
    "        #Agrupando features numéricas\n",
    "    numeric_features  = [cls for cls in X.columns if X[cls].dtype == 'float64' or X[cls].dtype =='int64']\n",
    "    # print('>>numeric_features:', numeric_features ,\n",
    "          # len(numeric_features))\n",
    "\n",
    "\n",
    "    #Agrupando features categoricas\n",
    "    categorical_features = [cls for cls in X.columns if X[cls].dtypes == 'object' and X[cls].nunique()<=max_cat]\n",
    "    # print('\\n>>cat_features:', cat_features ,\n",
    "          # len(cat_features))\n",
    "    return numeric_features , categorical_features"
   ]
  },
  {
   "cell_type": "code",
   "execution_count": 64,
   "id": "78260d88-f433-496a-9dd0-734f03fc2f42",
   "metadata": {},
   "outputs": [],
   "source": [
    "data_train = pd.read_csv('df2_train.csv')\n",
    "data_test =  pd.read_csv('data/test.csv')"
   ]
  },
  {
   "cell_type": "code",
   "execution_count": 65,
   "id": "2f3207fd-c28c-40e4-a6a8-7d10e32b3ac1",
   "metadata": {},
   "outputs": [],
   "source": [
    "df = data_train"
   ]
  },
  {
   "cell_type": "code",
   "execution_count": 66,
   "id": "cc82c7c9-b8b9-4288-95fd-e33d1389cecc",
   "metadata": {},
   "outputs": [],
   "source": [
    "df['tem_experiencia_de_trabalho'] = df['tem_experiencia_de_trabalho'].astype('category').cat.codes\n",
    "df['requer_treinamento_de_trabalho'] = df['requer_treinamento_de_trabalho'].astype('category').cat.codes"
   ]
  },
  {
   "cell_type": "code",
   "execution_count": 67,
   "id": "272861e5-a370-46bb-a882-cec4db51cdb0",
   "metadata": {},
   "outputs": [],
   "source": [
    "# Separar os dados em features (X) e target (y)\n",
    "X = df.drop(columns='status_do_caso')  # Substitua 'target_column' pelo nome da coluna alvo\n",
    "y = df['status_do_caso']"
   ]
  },
  {
   "cell_type": "code",
   "execution_count": 68,
   "id": "bb533914-0156-492e-a61e-20f8184d0ee6",
   "metadata": {},
   "outputs": [
    {
     "data": {
      "text/html": [
       "<div>\n",
       "<style scoped>\n",
       "    .dataframe tbody tr th:only-of-type {\n",
       "        vertical-align: middle;\n",
       "    }\n",
       "\n",
       "    .dataframe tbody tr th {\n",
       "        vertical-align: top;\n",
       "    }\n",
       "\n",
       "    .dataframe thead th {\n",
       "        text-align: right;\n",
       "    }\n",
       "</style>\n",
       "<table border=\"1\" class=\"dataframe\">\n",
       "  <thead>\n",
       "    <tr style=\"text-align: right;\">\n",
       "      <th></th>\n",
       "      <th>continente</th>\n",
       "      <th>educacao_do_empregado</th>\n",
       "      <th>tem_experiencia_de_trabalho</th>\n",
       "      <th>requer_treinamento_de_trabalho</th>\n",
       "      <th>num_de_empregados</th>\n",
       "      <th>ano_de_estabelecimento</th>\n",
       "      <th>regiao_de_emprego</th>\n",
       "      <th>salario_prevalecente</th>\n",
       "      <th>unidade_de_salario</th>\n",
       "      <th>posicao_em_tempo_integral</th>\n",
       "      <th>cat_empresa</th>\n",
       "      <th>cat_salario</th>\n",
       "      <th>cat_experiencia</th>\n",
       "    </tr>\n",
       "  </thead>\n",
       "  <tbody>\n",
       "    <tr>\n",
       "      <th>0</th>\n",
       "      <td>2</td>\n",
       "      <td>1</td>\n",
       "      <td>0</td>\n",
       "      <td>1</td>\n",
       "      <td>2087</td>\n",
       "      <td>1855</td>\n",
       "      <td>4</td>\n",
       "      <td>69711.24</td>\n",
       "      <td>0</td>\n",
       "      <td>1</td>\n",
       "      <td>1</td>\n",
       "      <td>2</td>\n",
       "      <td>3</td>\n",
       "    </tr>\n",
       "    <tr>\n",
       "      <th>1</th>\n",
       "      <td>5</td>\n",
       "      <td>3</td>\n",
       "      <td>1</td>\n",
       "      <td>0</td>\n",
       "      <td>5991</td>\n",
       "      <td>2003</td>\n",
       "      <td>1</td>\n",
       "      <td>52931.38</td>\n",
       "      <td>0</td>\n",
       "      <td>1</td>\n",
       "      <td>3</td>\n",
       "      <td>2</td>\n",
       "      <td>2</td>\n",
       "    </tr>\n",
       "    <tr>\n",
       "      <th>2</th>\n",
       "      <td>5</td>\n",
       "      <td>1</td>\n",
       "      <td>0</td>\n",
       "      <td>0</td>\n",
       "      <td>1426</td>\n",
       "      <td>2000</td>\n",
       "      <td>0</td>\n",
       "      <td>110830.21</td>\n",
       "      <td>0</td>\n",
       "      <td>1</td>\n",
       "      <td>3</td>\n",
       "      <td>4</td>\n",
       "      <td>4</td>\n",
       "    </tr>\n",
       "    <tr>\n",
       "      <th>3</th>\n",
       "      <td>5</td>\n",
       "      <td>1</td>\n",
       "      <td>0</td>\n",
       "      <td>0</td>\n",
       "      <td>3846</td>\n",
       "      <td>1992</td>\n",
       "      <td>1</td>\n",
       "      <td>91884.68</td>\n",
       "      <td>3</td>\n",
       "      <td>1</td>\n",
       "      <td>2</td>\n",
       "      <td>3</td>\n",
       "      <td>4</td>\n",
       "    </tr>\n",
       "    <tr>\n",
       "      <th>4</th>\n",
       "      <td>5</td>\n",
       "      <td>2</td>\n",
       "      <td>1</td>\n",
       "      <td>0</td>\n",
       "      <td>3957</td>\n",
       "      <td>1949</td>\n",
       "      <td>2</td>\n",
       "      <td>138155.24</td>\n",
       "      <td>0</td>\n",
       "      <td>1</td>\n",
       "      <td>2</td>\n",
       "      <td>4</td>\n",
       "      <td>2</td>\n",
       "    </tr>\n",
       "    <tr>\n",
       "      <th>...</th>\n",
       "      <td>...</td>\n",
       "      <td>...</td>\n",
       "      <td>...</td>\n",
       "      <td>...</td>\n",
       "      <td>...</td>\n",
       "      <td>...</td>\n",
       "      <td>...</td>\n",
       "      <td>...</td>\n",
       "      <td>...</td>\n",
       "      <td>...</td>\n",
       "      <td>...</td>\n",
       "      <td>...</td>\n",
       "      <td>...</td>\n",
       "    </tr>\n",
       "    <tr>\n",
       "      <th>17831</th>\n",
       "      <td>5</td>\n",
       "      <td>3</td>\n",
       "      <td>1</td>\n",
       "      <td>0</td>\n",
       "      <td>95347</td>\n",
       "      <td>1995</td>\n",
       "      <td>3</td>\n",
       "      <td>69692.24</td>\n",
       "      <td>0</td>\n",
       "      <td>1</td>\n",
       "      <td>2</td>\n",
       "      <td>2</td>\n",
       "      <td>2</td>\n",
       "    </tr>\n",
       "    <tr>\n",
       "      <th>17832</th>\n",
       "      <td>2</td>\n",
       "      <td>1</td>\n",
       "      <td>0</td>\n",
       "      <td>0</td>\n",
       "      <td>1483</td>\n",
       "      <td>1886</td>\n",
       "      <td>4</td>\n",
       "      <td>136237.62</td>\n",
       "      <td>0</td>\n",
       "      <td>1</td>\n",
       "      <td>1</td>\n",
       "      <td>4</td>\n",
       "      <td>4</td>\n",
       "    </tr>\n",
       "    <tr>\n",
       "      <th>17833</th>\n",
       "      <td>0</td>\n",
       "      <td>3</td>\n",
       "      <td>0</td>\n",
       "      <td>0</td>\n",
       "      <td>1504</td>\n",
       "      <td>2010</td>\n",
       "      <td>2</td>\n",
       "      <td>118187.30</td>\n",
       "      <td>0</td>\n",
       "      <td>1</td>\n",
       "      <td>3</td>\n",
       "      <td>4</td>\n",
       "      <td>4</td>\n",
       "    </tr>\n",
       "    <tr>\n",
       "      <th>17834</th>\n",
       "      <td>0</td>\n",
       "      <td>4</td>\n",
       "      <td>1</td>\n",
       "      <td>0</td>\n",
       "      <td>251967</td>\n",
       "      <td>2010</td>\n",
       "      <td>1</td>\n",
       "      <td>93133.40</td>\n",
       "      <td>0</td>\n",
       "      <td>1</td>\n",
       "      <td>3</td>\n",
       "      <td>3</td>\n",
       "      <td>2</td>\n",
       "    </tr>\n",
       "    <tr>\n",
       "      <th>17835</th>\n",
       "      <td>5</td>\n",
       "      <td>2</td>\n",
       "      <td>1</td>\n",
       "      <td>0</td>\n",
       "      <td>4116</td>\n",
       "      <td>2008</td>\n",
       "      <td>3</td>\n",
       "      <td>71500.57</td>\n",
       "      <td>0</td>\n",
       "      <td>1</td>\n",
       "      <td>3</td>\n",
       "      <td>3</td>\n",
       "      <td>2</td>\n",
       "    </tr>\n",
       "  </tbody>\n",
       "</table>\n",
       "<p>17836 rows × 13 columns</p>\n",
       "</div>"
      ],
      "text/plain": [
       "       continente  educacao_do_empregado  tem_experiencia_de_trabalho  \\\n",
       "0               2                      1                            0   \n",
       "1               5                      3                            1   \n",
       "2               5                      1                            0   \n",
       "3               5                      1                            0   \n",
       "4               5                      2                            1   \n",
       "...           ...                    ...                          ...   \n",
       "17831           5                      3                            1   \n",
       "17832           2                      1                            0   \n",
       "17833           0                      3                            0   \n",
       "17834           0                      4                            1   \n",
       "17835           5                      2                            1   \n",
       "\n",
       "       requer_treinamento_de_trabalho  num_de_empregados  \\\n",
       "0                                   1               2087   \n",
       "1                                   0               5991   \n",
       "2                                   0               1426   \n",
       "3                                   0               3846   \n",
       "4                                   0               3957   \n",
       "...                               ...                ...   \n",
       "17831                               0              95347   \n",
       "17832                               0               1483   \n",
       "17833                               0               1504   \n",
       "17834                               0             251967   \n",
       "17835                               0               4116   \n",
       "\n",
       "       ano_de_estabelecimento  regiao_de_emprego  salario_prevalecente  \\\n",
       "0                        1855                  4              69711.24   \n",
       "1                        2003                  1              52931.38   \n",
       "2                        2000                  0             110830.21   \n",
       "3                        1992                  1              91884.68   \n",
       "4                        1949                  2             138155.24   \n",
       "...                       ...                ...                   ...   \n",
       "17831                    1995                  3              69692.24   \n",
       "17832                    1886                  4             136237.62   \n",
       "17833                    2010                  2             118187.30   \n",
       "17834                    2010                  1              93133.40   \n",
       "17835                    2008                  3              71500.57   \n",
       "\n",
       "       unidade_de_salario  posicao_em_tempo_integral  cat_empresa  \\\n",
       "0                       0                          1            1   \n",
       "1                       0                          1            3   \n",
       "2                       0                          1            3   \n",
       "3                       3                          1            2   \n",
       "4                       0                          1            2   \n",
       "...                   ...                        ...          ...   \n",
       "17831                   0                          1            2   \n",
       "17832                   0                          1            1   \n",
       "17833                   0                          1            3   \n",
       "17834                   0                          1            3   \n",
       "17835                   0                          1            3   \n",
       "\n",
       "       cat_salario  cat_experiencia  \n",
       "0                2                3  \n",
       "1                2                2  \n",
       "2                4                4  \n",
       "3                3                4  \n",
       "4                4                2  \n",
       "...            ...              ...  \n",
       "17831            2                2  \n",
       "17832            4                4  \n",
       "17833            4                4  \n",
       "17834            3                2  \n",
       "17835            3                2  \n",
       "\n",
       "[17836 rows x 13 columns]"
      ]
     },
     "execution_count": 68,
     "metadata": {},
     "output_type": "execute_result"
    }
   ],
   "source": [
    "X"
   ]
  },
  {
   "cell_type": "code",
   "execution_count": 69,
   "id": "2b6e62a3-09e3-4042-9eb1-c2fc7d8be8af",
   "metadata": {},
   "outputs": [
    {
     "data": {
      "text/plain": [
       "0        0\n",
       "1        1\n",
       "2        0\n",
       "3        0\n",
       "4        1\n",
       "        ..\n",
       "17831    1\n",
       "17832    0\n",
       "17833    0\n",
       "17834    1\n",
       "17835    1\n",
       "Name: status_do_caso, Length: 17836, dtype: int64"
      ]
     },
     "execution_count": 69,
     "metadata": {},
     "output_type": "execute_result"
    }
   ],
   "source": [
    "y"
   ]
  },
  {
   "cell_type": "markdown",
   "id": "a16d4a39-29e8-4ab7-9b35-3338246497a7",
   "metadata": {
    "jp-MarkdownHeadingCollapsed": true,
    "tags": []
   },
   "source": [
    "### Model"
   ]
  },
  {
   "cell_type": "code",
   "execution_count": 70,
   "id": "e6c1e161-0ffd-43c2-880c-8d862fb64815",
   "metadata": {},
   "outputs": [],
   "source": [
    "X_train, X_test, y_train, y_test = split_data(X,y,test_size=0.2,random_state=42)"
   ]
  },
  {
   "cell_type": "code",
   "execution_count": 71,
   "id": "07275d31-3009-4dac-9d47-fe98e0df1e56",
   "metadata": {},
   "outputs": [],
   "source": [
    "\n",
    "# Treinar os modelos\n",
    "trained_models = train_models(X_train, y_train)\n",
    "\n"
   ]
  },
  {
   "cell_type": "code",
   "execution_count": 72,
   "id": "fb94a81c-be76-4d15-a5eb-ffc8b76eac8b",
   "metadata": {},
   "outputs": [
    {
     "name": "stdout",
     "output_type": "stream",
     "text": [
      "Model: Logistic Regression\n",
      "Accuracy: 0.679932735426009\n",
      "Precision: 0.46230852470389505\n",
      "Recall: 0.679932735426009\n",
      "F1-Score: 0.5503893280425418\n",
      "---\n",
      "Model: Decision Tree\n",
      "Accuracy: 0.6446188340807175\n",
      "Precision: 0.6514786176259022\n",
      "Recall: 0.6446188340807175\n",
      "F1-Score: 0.6477225331683928\n",
      "---\n",
      "Model: Random Forest\n",
      "Accuracy: 0.7261771300448431\n",
      "Precision: 0.716969214303177\n",
      "Recall: 0.7261771300448431\n",
      "F1-Score: 0.7198454137989314\n",
      "---\n"
     ]
    },
    {
     "name": "stderr",
     "output_type": "stream",
     "text": [
      "/opt/anaconda/lib/python3.9/site-packages/sklearn/metrics/_classification.py:1318: UndefinedMetricWarning: Precision is ill-defined and being set to 0.0 in labels with no predicted samples. Use `zero_division` parameter to control this behavior.\n",
      "  _warn_prf(average, modifier, msg_start, len(result))\n"
     ]
    }
   ],
   "source": [
    "# Avaliar os modelos\n",
    "evaluate_models(trained_models, X_test, y_test)"
   ]
  },
  {
   "cell_type": "code",
   "execution_count": 73,
   "id": "c668e22c-eec5-4dee-b831-73281e1ea814",
   "metadata": {},
   "outputs": [],
   "source": [
    "model = RandomForestClassifier(n_estimators=300)"
   ]
  },
  {
   "cell_type": "code",
   "execution_count": 74,
   "id": "36ef3b5f-f675-4d6e-86cf-2eb9b912c5f2",
   "metadata": {},
   "outputs": [
    {
     "data": {
      "text/plain": [
       "RandomForestClassifier(n_estimators=300)"
      ]
     },
     "execution_count": 74,
     "metadata": {},
     "output_type": "execute_result"
    }
   ],
   "source": [
    "model.fit(X_train,y_train)"
   ]
  },
  {
   "cell_type": "code",
   "execution_count": 75,
   "id": "b5a24834-4aca-4c01-ac3c-006a83099297",
   "metadata": {},
   "outputs": [],
   "source": [
    "y_pred = model.predict(X_test)"
   ]
  },
  {
   "cell_type": "code",
   "execution_count": 76,
   "id": "cc83a5eb-706a-48c0-a3ad-071884b369de",
   "metadata": {},
   "outputs": [
    {
     "data": {
      "text/plain": [
       "0.6598593318443078"
      ]
     },
     "execution_count": 76,
     "metadata": {},
     "output_type": "execute_result"
    }
   ],
   "source": [
    "from sklearn.metrics import roc_auc_score\n",
    "\n",
    "micro_roc_auc_ovr = roc_auc_score(\n",
    "    y_test,\n",
    "    y_pred,\n",
    ")\n",
    "micro_roc_auc_ovr"
   ]
  },
  {
   "cell_type": "markdown",
   "id": "a14443d7-79ae-4913-a2b6-d48d1abe2e0e",
   "metadata": {},
   "source": [
    "### model 2"
   ]
  },
  {
   "cell_type": "code",
   "execution_count": 78,
   "id": "b8fc5eca-64ac-4eeb-b140-5e4ee75158db",
   "metadata": {},
   "outputs": [],
   "source": [
    "numeric_features, categorical_features = cls_feature(X)"
   ]
  },
  {
   "cell_type": "code",
   "execution_count": 90,
   "id": "2e5e665a-6859-4e1f-91da-7dd19ff5d8a6",
   "metadata": {},
   "outputs": [
    {
     "data": {
      "text/plain": [
       "['continente',\n",
       " 'educacao_do_empregado',\n",
       " 'num_de_empregados',\n",
       " 'ano_de_estabelecimento',\n",
       " 'regiao_de_emprego',\n",
       " 'salario_prevalecente',\n",
       " 'unidade_de_salario',\n",
       " 'posicao_em_tempo_integral',\n",
       " 'cat_empresa',\n",
       " 'cat_salario',\n",
       " 'cat_experiencia']"
      ]
     },
     "execution_count": 90,
     "metadata": {},
     "output_type": "execute_result"
    }
   ],
   "source": [
    "numeric_features"
   ]
  },
  {
   "cell_type": "code",
   "execution_count": 91,
   "id": "06018045-38c7-456e-9702-f2abb90cf5fc",
   "metadata": {},
   "outputs": [
    {
     "data": {
      "text/plain": [
       "[]"
      ]
     },
     "execution_count": 91,
     "metadata": {},
     "output_type": "execute_result"
    }
   ],
   "source": [
    "categorical_features"
   ]
  },
  {
   "cell_type": "code",
   "execution_count": 83,
   "id": "23a8f72c-e9e9-494d-b6ce-a7d6e12bb26d",
   "metadata": {},
   "outputs": [
    {
     "data": {
      "text/plain": [
       "ColumnTransformer(transformers=[('num',\n",
       "                                 Pipeline(steps=[('imputer',\n",
       "                                                  SimpleImputer(strategy='median')),\n",
       "                                                 ('scaler', StandardScaler())]),\n",
       "                                 ['continente', 'educacao_do_empregado',\n",
       "                                  'num_de_empregados', 'ano_de_estabelecimento',\n",
       "                                  'regiao_de_emprego', 'salario_prevalecente',\n",
       "                                  'unidade_de_salario',\n",
       "                                  'posicao_em_tempo_integral', 'cat_empresa',\n",
       "                                  'cat_salario', 'cat_experiencia']),\n",
       "                                ('cat',\n",
       "                                 Pipeline(steps=[('imputer',\n",
       "                                                  SimpleImputer(fill_value='missing',\n",
       "                                                                strategy='constant')),\n",
       "                                                 ('enconder',\n",
       "                                                  OneHotEncoder(handle_unknown='ignore',\n",
       "                                                                sparse=False))]),\n",
       "                                 [])])"
      ]
     },
     "execution_count": 83,
     "metadata": {},
     "output_type": "execute_result"
    }
   ],
   "source": [
    "pipe_categorical = Pipeline([\n",
    "    ('imputer',SimpleImputer(strategy='constant',fill_value='missing')),\n",
    "    ('enconder',OneHotEncoder(handle_unknown='ignore',sparse=False))\n",
    "    \n",
    "])\n",
    "pipe_numerical = Pipeline([\n",
    "    ('imputer',SimpleImputer(strategy='median')),\n",
    "    ('scaler', StandardScaler())\n",
    "])\n",
    "\n",
    "\n",
    "preprocessor = ColumnTransformer([\n",
    "        (\"num\", pipe_numerical, numeric_features),\n",
    "        (\"cat\", pipe_categorical, categorical_features),\n",
    "]\n",
    ")\n",
    "preprocessor"
   ]
  },
  {
   "cell_type": "code",
   "execution_count": 84,
   "id": "7b13441e-dee4-4f54-bf17-da1928a42d78",
   "metadata": {},
   "outputs": [
    {
     "data": {
      "text/plain": [
       "Pipeline(steps=[('preprocessor',\n",
       "                 ColumnTransformer(transformers=[('num',\n",
       "                                                  Pipeline(steps=[('imputer',\n",
       "                                                                   SimpleImputer(strategy='median')),\n",
       "                                                                  ('scaler',\n",
       "                                                                   StandardScaler())]),\n",
       "                                                  ['continente',\n",
       "                                                   'educacao_do_empregado',\n",
       "                                                   'num_de_empregados',\n",
       "                                                   'ano_de_estabelecimento',\n",
       "                                                   'regiao_de_emprego',\n",
       "                                                   'salario_prevalecente',\n",
       "                                                   'unidade_de_salario',\n",
       "                                                   'posicao_em_tempo_integral',\n",
       "                                                   'cat_empresa', 'cat_salario',\n",
       "                                                   'cat_experiencia']),\n",
       "                                                 ('cat',\n",
       "                                                  Pipeline(steps=[('imputer',\n",
       "                                                                   SimpleImputer(fill_value='missing',\n",
       "                                                                                 strategy='constant')),\n",
       "                                                                  ('enconder',\n",
       "                                                                   OneHotEncoder(handle_unknown='ignore',\n",
       "                                                                                 sparse=False))]),\n",
       "                                                  [])])),\n",
       "                ('model', LogisticRegression())])"
      ]
     },
     "execution_count": 84,
     "metadata": {},
     "output_type": "execute_result"
    }
   ],
   "source": [
    "clf = Pipeline([\n",
    "    (\"preprocessor\", preprocessor),\n",
    "    (\"model\", LogisticRegression())\n",
    "])\n",
    "clf"
   ]
  },
  {
   "cell_type": "code",
   "execution_count": 85,
   "id": "8c3bb7f5-1c86-410a-a98a-ce5610002ff4",
   "metadata": {},
   "outputs": [
    {
     "data": {
      "text/plain": [
       "Pipeline(steps=[('preprocessor',\n",
       "                 ColumnTransformer(transformers=[('num',\n",
       "                                                  Pipeline(steps=[('imputer',\n",
       "                                                                   SimpleImputer(strategy='median')),\n",
       "                                                                  ('scaler',\n",
       "                                                                   StandardScaler())]),\n",
       "                                                  ['continente',\n",
       "                                                   'educacao_do_empregado',\n",
       "                                                   'num_de_empregados',\n",
       "                                                   'ano_de_estabelecimento',\n",
       "                                                   'regiao_de_emprego',\n",
       "                                                   'salario_prevalecente',\n",
       "                                                   'unidade_de_salario',\n",
       "                                                   'posicao_em_tempo_integral',\n",
       "                                                   'cat_empresa', 'cat_salario',\n",
       "                                                   'cat_experiencia']),\n",
       "                                                 ('cat',\n",
       "                                                  Pipeline(steps=[('imputer',\n",
       "                                                                   SimpleImputer(fill_value='missing',\n",
       "                                                                                 strategy='constant')),\n",
       "                                                                  ('enconder',\n",
       "                                                                   OneHotEncoder(handle_unknown='ignore',\n",
       "                                                                                 sparse=False))]),\n",
       "                                                  [])])),\n",
       "                ('model', LogisticRegression())])"
      ]
     },
     "execution_count": 85,
     "metadata": {},
     "output_type": "execute_result"
    }
   ],
   "source": [
    "# Aplicar o pipeline aos dados de treinamento\n",
    "X_train_preprocessed = clf[\"preprocessor\"].fit_transform(X_train)\n",
    "\n",
    "# Treinar o modelo\n",
    "clf.fit(X_train, y_train)"
   ]
  },
  {
   "cell_type": "code",
   "execution_count": 88,
   "id": "c81347cc-66ab-4b69-97e5-20e228818638",
   "metadata": {},
   "outputs": [
    {
     "name": "stdout",
     "output_type": "stream",
     "text": [
      "Relatório de Classificação:\n",
      "              precision    recall  f1-score   support\n",
      "\n",
      "           0       0.59      0.45      0.51      1142\n",
      "           1       0.77      0.85      0.81      2426\n",
      "\n",
      "    accuracy                           0.72      3568\n",
      "   macro avg       0.68      0.65      0.66      3568\n",
      "weighted avg       0.71      0.72      0.71      3568\n",
      "\n"
     ]
    }
   ],
   "source": [
    "# Fazer previsões nos dados de teste\n",
    "y_pred = clf.predict(X_test)\n",
    "\n",
    "# Obter relatório de classificação\n",
    "classification_report = classification_report(y_test, y_pred)\n",
    "\n",
    "print(\"Relatório de Classificação:\")\n",
    "print(classification_report)"
   ]
  },
  {
   "cell_type": "code",
   "execution_count": null,
   "id": "a4b63f37-8171-4ad7-a4bb-7c0956345274",
   "metadata": {},
   "outputs": [],
   "source": []
  }
 ],
 "metadata": {
  "kernelspec": {
   "display_name": "Python 3 (ipykernel)",
   "language": "python",
   "name": "python3"
  },
  "language_info": {
   "codemirror_mode": {
    "name": "ipython",
    "version": 3
   },
   "file_extension": ".py",
   "mimetype": "text/x-python",
   "name": "python",
   "nbconvert_exporter": "python",
   "pygments_lexer": "ipython3",
   "version": "3.9.12"
  }
 },
 "nbformat": 4,
 "nbformat_minor": 5
}
