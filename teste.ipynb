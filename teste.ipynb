{
 "cells": [
  {
   "cell_type": "markdown",
   "id": "3b6c442f-a467-4abb-8bf7-c15c62ad7b43",
   "metadata": {
    "tags": []
   },
   "source": [
    "## Imports"
   ]
  },
  {
   "cell_type": "code",
   "execution_count": 67,
   "id": "acfc184c-1515-40a2-b0ef-2654ef7c1165",
   "metadata": {},
   "outputs": [],
   "source": [
    "import pandas as pd\n",
    "import numpy as np\n",
    "\n",
    "import matplotlib.pyplot as plt\n",
    "import seaborn as sns\n",
    "\n",
    "from sklearn.model_selection import train_test_split, KFold\n",
    "from sklearn.compose import ColumnTransformer\n",
    "from sklearn.pipeline import Pipeline\n",
    "from sklearn.preprocessing import OneHotEncoder, OrdinalEncoder, MinMaxScaler, StandardScaler, LabelEncoder\n",
    "from sklearn.impute import SimpleImputer\n",
    "\n",
    "\n",
    "from sklearn.linear_model import LogisticRegression\n",
    "from sklearn.tree import DecisionTreeClassifier\n",
    "from sklearn.ensemble import RandomForestClassifier\n",
    "\n",
    "\n",
    "from sklearn.model_selection import StratifiedKFold, cross_val_score\n",
    "from sklearn.metrics import accuracy_score, roc_auc_score, f1_score,precision_score,recall_score,log_loss,confusion_matrix\n",
    "\n",
    "\n",
    "from sklearn.model_selection import GridSearchCV\n",
    "from sklearn.model_selection import cross_val_predict\n",
    "\n",
    "from sklearn.feature_selection import SelectKBest, f_classif, mutual_info_classif\n",
    "\n"
   ]
  },
  {
   "cell_type": "code",
   "execution_count": 3,
   "id": "316e270e-79fd-49cb-8cd6-dee94a65be83",
   "metadata": {},
   "outputs": [],
   "source": [
    "def cls_feature(X,max_cat = 10):\n",
    "        #Agrupando features numéricas\n",
    "    numeric_features  = [cls for cls in X.columns if X[cls].dtype == 'float64' or X[cls].dtype =='int64']\n",
    "    # print('>>numeric_features:', numeric_features ,\n",
    "          # len(numeric_features))\n",
    "\n",
    "\n",
    "    #Agrupando features categoricas\n",
    "    categorical_features = [cls for cls in X.columns if X[cls].dtypes == 'object' and X[cls].nunique()<=max_cat]\n",
    "    # print('\\n>>cat_features:', cat_features ,\n",
    "          # len(cat_features))\n",
    "    return numeric_features , categorical_features"
   ]
  },
  {
   "cell_type": "code",
   "execution_count": 4,
   "id": "5896c27e-b7e4-47fe-877d-1eac57afa7bb",
   "metadata": {},
   "outputs": [],
   "source": [
    "def print_metrics(y_true, y_pred, y_pred_proba):\n",
    "    \n",
    "    accuracy = accuracy_score(y_true, y_pred)\n",
    "    precision = precision_score(y_true, y_pred)\n",
    "    recall = recall_score(y_true, y_pred)\n",
    "    f1 = f1_score(y_true, y_pred)\n",
    "    logloss = log_loss(y_true, y_pred_proba)\n",
    "    roc_auc = roc_auc_score(y_true, y_pred)\n",
    "\n",
    "    print(\"Accuracy: {:.2f}\".format(accuracy))\n",
    "    print(\"Precision: {:.2f}\".format(precision))\n",
    "    print(\"Recall: {:.2f}\".format(recall))\n",
    "    print(\"F1-Score: {:.2f}\".format(f1))\n",
    "    print(\"Log Loss: {:.2f}\".format(logloss))\n",
    "    print(\"ROC AUC Score: {:.2f}\".format(roc_auc))"
   ]
  },
  {
   "cell_type": "code",
   "execution_count": 62,
   "id": "3e0608ba-fbfc-4a72-bd48-d16b2cfbfd0d",
   "metadata": {},
   "outputs": [],
   "source": [
    "def feature_importance (model):\n",
    "    imp_df = pd.DataFrame({\n",
    "        'Feature Name': X_train.columns,\n",
    "        'Importance': model.feature_importances_\n",
    "    })\n",
    "    fi = imp_df.sort_values(by ='Importance',ascending=False)\n",
    "\n",
    "    fi2 = fi.head(10)\n",
    "    plt.figure(figsize=(10,8))\n",
    "    sns.barplot(data = fi2, x = 'Importance',y = 'Feature Name')\n",
    "    plt.title('Top 10 Feature Importance para cada Atributo (Random Forest)',fontsize = 18)\n",
    "    plt.xlabel('Importance',fontsize = 16)\n",
    "    plt.ylabel('Feature Name',fontsize = 16)\n",
    "    plt.show()\n",
    "    return fi2,imp_df"
   ]
  },
  {
   "cell_type": "markdown",
   "id": "889f3ead-13ab-4d55-9b99-ba1e00fce17b",
   "metadata": {
    "jp-MarkdownHeadingCollapsed": true,
    "tags": []
   },
   "source": [
    "## Data"
   ]
  },
  {
   "cell_type": "code",
   "execution_count": 5,
   "id": "a516d4b9-9344-490c-ab30-4038eecc5a34",
   "metadata": {},
   "outputs": [],
   "source": [
    "df = pd.read_csv('data/atual_train_v2.csv')"
   ]
  },
  {
   "cell_type": "code",
   "execution_count": 6,
   "id": "ec9664de-fb4f-496f-9cfe-5676fa76ea89",
   "metadata": {},
   "outputs": [
    {
     "data": {
      "text/html": [
       "<div>\n",
       "<style scoped>\n",
       "    .dataframe tbody tr th:only-of-type {\n",
       "        vertical-align: middle;\n",
       "    }\n",
       "\n",
       "    .dataframe tbody tr th {\n",
       "        vertical-align: top;\n",
       "    }\n",
       "\n",
       "    .dataframe thead th {\n",
       "        text-align: right;\n",
       "    }\n",
       "</style>\n",
       "<table border=\"1\" class=\"dataframe\">\n",
       "  <thead>\n",
       "    <tr style=\"text-align: right;\">\n",
       "      <th></th>\n",
       "      <th>id_do_caso</th>\n",
       "      <th>continente</th>\n",
       "      <th>educacao_do_empregado</th>\n",
       "      <th>tem_experiencia_de_trabalho</th>\n",
       "      <th>requer_treinamento_de_trabalho</th>\n",
       "      <th>num_de_empregados</th>\n",
       "      <th>ano_de_estabelecimento</th>\n",
       "      <th>regiao_de_emprego</th>\n",
       "      <th>salario_prevalecente</th>\n",
       "      <th>unidade_de_salario</th>\n",
       "      <th>posicao_em_tempo_integral</th>\n",
       "      <th>status_do_caso</th>\n",
       "      <th>cat_empresa</th>\n",
       "      <th>cat_salario</th>\n",
       "      <th>cat_experiencia</th>\n",
       "      <th>tem_doutorado</th>\n",
       "      <th>tem_mestrado_exp</th>\n",
       "      <th>salario_hora</th>\n",
       "    </tr>\n",
       "  </thead>\n",
       "  <tbody>\n",
       "    <tr>\n",
       "      <th>0</th>\n",
       "      <td>EZYV10567</td>\n",
       "      <td>Europa</td>\n",
       "      <td>Ensino Médio</td>\n",
       "      <td>N</td>\n",
       "      <td>S</td>\n",
       "      <td>2087</td>\n",
       "      <td>1855</td>\n",
       "      <td>Sul</td>\n",
       "      <td>69711.24</td>\n",
       "      <td>Ano</td>\n",
       "      <td>S</td>\n",
       "      <td>Negado</td>\n",
       "      <td>antiga</td>\n",
       "      <td>medio_baixo</td>\n",
       "      <td>3</td>\n",
       "      <td>0</td>\n",
       "      <td>0</td>\n",
       "      <td>0</td>\n",
       "    </tr>\n",
       "    <tr>\n",
       "      <th>1</th>\n",
       "      <td>EZYV5505</td>\n",
       "      <td>Ásia</td>\n",
       "      <td>Mestrado</td>\n",
       "      <td>S</td>\n",
       "      <td>N</td>\n",
       "      <td>5991</td>\n",
       "      <td>2003</td>\n",
       "      <td>Meio-Oeste</td>\n",
       "      <td>52931.38</td>\n",
       "      <td>Ano</td>\n",
       "      <td>S</td>\n",
       "      <td>Aprovado</td>\n",
       "      <td>nova</td>\n",
       "      <td>medio_baixo</td>\n",
       "      <td>2</td>\n",
       "      <td>0</td>\n",
       "      <td>1</td>\n",
       "      <td>0</td>\n",
       "    </tr>\n",
       "    <tr>\n",
       "      <th>2</th>\n",
       "      <td>EZYV5207</td>\n",
       "      <td>Ásia</td>\n",
       "      <td>Ensino Médio</td>\n",
       "      <td>N</td>\n",
       "      <td>N</td>\n",
       "      <td>1426</td>\n",
       "      <td>2000</td>\n",
       "      <td>Ilha</td>\n",
       "      <td>110830.21</td>\n",
       "      <td>Ano</td>\n",
       "      <td>S</td>\n",
       "      <td>Negado</td>\n",
       "      <td>nova</td>\n",
       "      <td>alto</td>\n",
       "      <td>4</td>\n",
       "      <td>0</td>\n",
       "      <td>0</td>\n",
       "      <td>0</td>\n",
       "    </tr>\n",
       "    <tr>\n",
       "      <th>3</th>\n",
       "      <td>EZYV7545</td>\n",
       "      <td>Ásia</td>\n",
       "      <td>Ensino Médio</td>\n",
       "      <td>N</td>\n",
       "      <td>N</td>\n",
       "      <td>3846</td>\n",
       "      <td>1992</td>\n",
       "      <td>Meio-Oeste</td>\n",
       "      <td>91884.68</td>\n",
       "      <td>Semana</td>\n",
       "      <td>S</td>\n",
       "      <td>Negado</td>\n",
       "      <td>intermediaria</td>\n",
       "      <td>medio_alto</td>\n",
       "      <td>4</td>\n",
       "      <td>0</td>\n",
       "      <td>0</td>\n",
       "      <td>0</td>\n",
       "    </tr>\n",
       "    <tr>\n",
       "      <th>4</th>\n",
       "      <td>EZYV16071</td>\n",
       "      <td>Ásia</td>\n",
       "      <td>Ensino Superior</td>\n",
       "      <td>S</td>\n",
       "      <td>N</td>\n",
       "      <td>3957</td>\n",
       "      <td>1949</td>\n",
       "      <td>Nordeste</td>\n",
       "      <td>138155.24</td>\n",
       "      <td>Ano</td>\n",
       "      <td>S</td>\n",
       "      <td>Aprovado</td>\n",
       "      <td>intermediaria</td>\n",
       "      <td>alto</td>\n",
       "      <td>2</td>\n",
       "      <td>0</td>\n",
       "      <td>0</td>\n",
       "      <td>0</td>\n",
       "    </tr>\n",
       "    <tr>\n",
       "      <th>...</th>\n",
       "      <td>...</td>\n",
       "      <td>...</td>\n",
       "      <td>...</td>\n",
       "      <td>...</td>\n",
       "      <td>...</td>\n",
       "      <td>...</td>\n",
       "      <td>...</td>\n",
       "      <td>...</td>\n",
       "      <td>...</td>\n",
       "      <td>...</td>\n",
       "      <td>...</td>\n",
       "      <td>...</td>\n",
       "      <td>...</td>\n",
       "      <td>...</td>\n",
       "      <td>...</td>\n",
       "      <td>...</td>\n",
       "      <td>...</td>\n",
       "      <td>...</td>\n",
       "    </tr>\n",
       "    <tr>\n",
       "      <th>17831</th>\n",
       "      <td>EZYV17821</td>\n",
       "      <td>Ásia</td>\n",
       "      <td>Mestrado</td>\n",
       "      <td>S</td>\n",
       "      <td>N</td>\n",
       "      <td>95347</td>\n",
       "      <td>1995</td>\n",
       "      <td>Oeste</td>\n",
       "      <td>69692.24</td>\n",
       "      <td>Ano</td>\n",
       "      <td>S</td>\n",
       "      <td>Aprovado</td>\n",
       "      <td>intermediaria</td>\n",
       "      <td>medio_baixo</td>\n",
       "      <td>2</td>\n",
       "      <td>0</td>\n",
       "      <td>1</td>\n",
       "      <td>0</td>\n",
       "    </tr>\n",
       "    <tr>\n",
       "      <th>17832</th>\n",
       "      <td>EZYV13200</td>\n",
       "      <td>Europa</td>\n",
       "      <td>Ensino Médio</td>\n",
       "      <td>N</td>\n",
       "      <td>N</td>\n",
       "      <td>1483</td>\n",
       "      <td>1886</td>\n",
       "      <td>Sul</td>\n",
       "      <td>136237.62</td>\n",
       "      <td>Ano</td>\n",
       "      <td>S</td>\n",
       "      <td>Negado</td>\n",
       "      <td>antiga</td>\n",
       "      <td>alto</td>\n",
       "      <td>4</td>\n",
       "      <td>0</td>\n",
       "      <td>0</td>\n",
       "      <td>0</td>\n",
       "    </tr>\n",
       "    <tr>\n",
       "      <th>17833</th>\n",
       "      <td>EZYV8903</td>\n",
       "      <td>América do Norte</td>\n",
       "      <td>Mestrado</td>\n",
       "      <td>N</td>\n",
       "      <td>N</td>\n",
       "      <td>1504</td>\n",
       "      <td>2010</td>\n",
       "      <td>Nordeste</td>\n",
       "      <td>118187.30</td>\n",
       "      <td>Ano</td>\n",
       "      <td>S</td>\n",
       "      <td>Negado</td>\n",
       "      <td>nova</td>\n",
       "      <td>alto</td>\n",
       "      <td>4</td>\n",
       "      <td>0</td>\n",
       "      <td>0</td>\n",
       "      <td>0</td>\n",
       "    </tr>\n",
       "    <tr>\n",
       "      <th>17834</th>\n",
       "      <td>EZYV6163</td>\n",
       "      <td>América do Norte</td>\n",
       "      <td>Doutorado</td>\n",
       "      <td>S</td>\n",
       "      <td>N</td>\n",
       "      <td>251967</td>\n",
       "      <td>2010</td>\n",
       "      <td>Meio-Oeste</td>\n",
       "      <td>93133.40</td>\n",
       "      <td>Ano</td>\n",
       "      <td>S</td>\n",
       "      <td>Aprovado</td>\n",
       "      <td>nova</td>\n",
       "      <td>medio_alto</td>\n",
       "      <td>2</td>\n",
       "      <td>1</td>\n",
       "      <td>0</td>\n",
       "      <td>0</td>\n",
       "    </tr>\n",
       "    <tr>\n",
       "      <th>17835</th>\n",
       "      <td>EZYV4219</td>\n",
       "      <td>Ásia</td>\n",
       "      <td>Ensino Superior</td>\n",
       "      <td>S</td>\n",
       "      <td>N</td>\n",
       "      <td>4116</td>\n",
       "      <td>2008</td>\n",
       "      <td>Oeste</td>\n",
       "      <td>71500.57</td>\n",
       "      <td>Ano</td>\n",
       "      <td>S</td>\n",
       "      <td>Aprovado</td>\n",
       "      <td>nova</td>\n",
       "      <td>medio_alto</td>\n",
       "      <td>2</td>\n",
       "      <td>0</td>\n",
       "      <td>0</td>\n",
       "      <td>0</td>\n",
       "    </tr>\n",
       "  </tbody>\n",
       "</table>\n",
       "<p>17836 rows × 18 columns</p>\n",
       "</div>"
      ],
      "text/plain": [
       "      id_do_caso        continente educacao_do_empregado  \\\n",
       "0      EZYV10567            Europa          Ensino Médio   \n",
       "1       EZYV5505              Ásia              Mestrado   \n",
       "2       EZYV5207              Ásia          Ensino Médio   \n",
       "3       EZYV7545              Ásia          Ensino Médio   \n",
       "4      EZYV16071              Ásia       Ensino Superior   \n",
       "...          ...               ...                   ...   \n",
       "17831  EZYV17821              Ásia              Mestrado   \n",
       "17832  EZYV13200            Europa          Ensino Médio   \n",
       "17833   EZYV8903  América do Norte              Mestrado   \n",
       "17834   EZYV6163  América do Norte             Doutorado   \n",
       "17835   EZYV4219              Ásia       Ensino Superior   \n",
       "\n",
       "      tem_experiencia_de_trabalho requer_treinamento_de_trabalho  \\\n",
       "0                               N                              S   \n",
       "1                               S                              N   \n",
       "2                               N                              N   \n",
       "3                               N                              N   \n",
       "4                               S                              N   \n",
       "...                           ...                            ...   \n",
       "17831                           S                              N   \n",
       "17832                           N                              N   \n",
       "17833                           N                              N   \n",
       "17834                           S                              N   \n",
       "17835                           S                              N   \n",
       "\n",
       "       num_de_empregados  ano_de_estabelecimento regiao_de_emprego  \\\n",
       "0                   2087                    1855               Sul   \n",
       "1                   5991                    2003        Meio-Oeste   \n",
       "2                   1426                    2000              Ilha   \n",
       "3                   3846                    1992        Meio-Oeste   \n",
       "4                   3957                    1949          Nordeste   \n",
       "...                  ...                     ...               ...   \n",
       "17831              95347                    1995             Oeste   \n",
       "17832               1483                    1886               Sul   \n",
       "17833               1504                    2010          Nordeste   \n",
       "17834             251967                    2010        Meio-Oeste   \n",
       "17835               4116                    2008             Oeste   \n",
       "\n",
       "       salario_prevalecente unidade_de_salario posicao_em_tempo_integral  \\\n",
       "0                  69711.24                Ano                         S   \n",
       "1                  52931.38                Ano                         S   \n",
       "2                 110830.21                Ano                         S   \n",
       "3                  91884.68             Semana                         S   \n",
       "4                 138155.24                Ano                         S   \n",
       "...                     ...                ...                       ...   \n",
       "17831              69692.24                Ano                         S   \n",
       "17832             136237.62                Ano                         S   \n",
       "17833             118187.30                Ano                         S   \n",
       "17834              93133.40                Ano                         S   \n",
       "17835              71500.57                Ano                         S   \n",
       "\n",
       "      status_do_caso    cat_empresa  cat_salario  cat_experiencia  \\\n",
       "0             Negado         antiga  medio_baixo                3   \n",
       "1           Aprovado           nova  medio_baixo                2   \n",
       "2             Negado           nova         alto                4   \n",
       "3             Negado  intermediaria   medio_alto                4   \n",
       "4           Aprovado  intermediaria         alto                2   \n",
       "...              ...            ...          ...              ...   \n",
       "17831       Aprovado  intermediaria  medio_baixo                2   \n",
       "17832         Negado         antiga         alto                4   \n",
       "17833         Negado           nova         alto                4   \n",
       "17834       Aprovado           nova   medio_alto                2   \n",
       "17835       Aprovado           nova   medio_alto                2   \n",
       "\n",
       "       tem_doutorado  tem_mestrado_exp  salario_hora  \n",
       "0                  0                 0             0  \n",
       "1                  0                 1             0  \n",
       "2                  0                 0             0  \n",
       "3                  0                 0             0  \n",
       "4                  0                 0             0  \n",
       "...              ...               ...           ...  \n",
       "17831              0                 1             0  \n",
       "17832              0                 0             0  \n",
       "17833              0                 0             0  \n",
       "17834              1                 0             0  \n",
       "17835              0                 0             0  \n",
       "\n",
       "[17836 rows x 18 columns]"
      ]
     },
     "execution_count": 6,
     "metadata": {},
     "output_type": "execute_result"
    }
   ],
   "source": [
    "df"
   ]
  },
  {
   "cell_type": "markdown",
   "id": "f234951d-e5d9-473e-aba4-b8eac6ade49e",
   "metadata": {
    "tags": []
   },
   "source": [
    "## Start"
   ]
  },
  {
   "cell_type": "code",
   "execution_count": null,
   "id": "a19fee28-6c6d-4934-a0f0-495f2c828d75",
   "metadata": {},
   "outputs": [],
   "source": []
  },
  {
   "cell_type": "code",
   "execution_count": 7,
   "id": "bc9bea05-024b-4bfd-b07e-dc1e47b1a26c",
   "metadata": {},
   "outputs": [
    {
     "data": {
      "text/plain": [
       "Aprovado    11937\n",
       "Negado       5899\n",
       "Name: status_do_caso, dtype: int64"
      ]
     },
     "execution_count": 7,
     "metadata": {},
     "output_type": "execute_result"
    }
   ],
   "source": [
    "df['status_do_caso'].value_counts()"
   ]
  },
  {
   "cell_type": "code",
   "execution_count": 8,
   "id": "30411a7e-3d1c-4401-947b-ff53cfcbd24c",
   "metadata": {},
   "outputs": [],
   "source": [
    "df['status_do_caso'] = df['status_do_caso'].apply(lambda x: 1 if x == 'Aprovado' else 0)"
   ]
  },
  {
   "cell_type": "code",
   "execution_count": 9,
   "id": "f8380497-5878-4ecd-beb7-05a0061cdbcf",
   "metadata": {},
   "outputs": [
    {
     "data": {
      "text/plain": [
       "1    11937\n",
       "0     5899\n",
       "Name: status_do_caso, dtype: int64"
      ]
     },
     "execution_count": 9,
     "metadata": {},
     "output_type": "execute_result"
    }
   ],
   "source": [
    "df['status_do_caso'].value_counts()"
   ]
  },
  {
   "cell_type": "code",
   "execution_count": 10,
   "id": "727d53b2-2b9e-4454-bec4-625c2ddac9de",
   "metadata": {},
   "outputs": [
    {
     "data": {
      "text/plain": [
       "id_do_caso                         object\n",
       "continente                         object\n",
       "educacao_do_empregado              object\n",
       "tem_experiencia_de_trabalho        object\n",
       "requer_treinamento_de_trabalho     object\n",
       "num_de_empregados                   int64\n",
       "ano_de_estabelecimento              int64\n",
       "regiao_de_emprego                  object\n",
       "salario_prevalecente              float64\n",
       "unidade_de_salario                 object\n",
       "posicao_em_tempo_integral          object\n",
       "status_do_caso                      int64\n",
       "cat_empresa                        object\n",
       "cat_salario                        object\n",
       "cat_experiencia                     int64\n",
       "tem_doutorado                       int64\n",
       "tem_mestrado_exp                    int64\n",
       "salario_hora                        int64\n",
       "dtype: object"
      ]
     },
     "execution_count": 10,
     "metadata": {},
     "output_type": "execute_result"
    }
   ],
   "source": [
    "df.dtypes"
   ]
  },
  {
   "cell_type": "code",
   "execution_count": 11,
   "id": "52c67c54-17ab-4621-8ede-7211792029c7",
   "metadata": {},
   "outputs": [],
   "source": [
    "for col in ['cat_experiencia','tem_doutorado','tem_mestrado_exp','salario_hora']:\n",
    "    df[col] =df[col].astype('object')"
   ]
  },
  {
   "cell_type": "code",
   "execution_count": 13,
   "id": "a459aa1e-18d3-42b5-a577-3e57a312ddce",
   "metadata": {},
   "outputs": [
    {
     "data": {
      "text/plain": [
       "id_do_caso                         object\n",
       "continente                         object\n",
       "educacao_do_empregado              object\n",
       "tem_experiencia_de_trabalho        object\n",
       "requer_treinamento_de_trabalho     object\n",
       "num_de_empregados                   int64\n",
       "ano_de_estabelecimento              int64\n",
       "regiao_de_emprego                  object\n",
       "salario_prevalecente              float64\n",
       "unidade_de_salario                 object\n",
       "posicao_em_tempo_integral          object\n",
       "status_do_caso                      int64\n",
       "cat_empresa                        object\n",
       "cat_salario                        object\n",
       "cat_experiencia                    object\n",
       "tem_doutorado                      object\n",
       "tem_mestrado_exp                   object\n",
       "salario_hora                       object\n",
       "dtype: object"
      ]
     },
     "execution_count": 13,
     "metadata": {},
     "output_type": "execute_result"
    }
   ],
   "source": [
    "df.dtypes"
   ]
  },
  {
   "cell_type": "code",
   "execution_count": 14,
   "id": "93467144-0cb4-4dad-b422-52f7a3490aeb",
   "metadata": {},
   "outputs": [],
   "source": [
    "X = df.drop(columns=['id_do_caso','status_do_caso'])\n",
    "y = df['status_do_caso']"
   ]
  },
  {
   "cell_type": "code",
   "execution_count": 15,
   "id": "50348581-e8ef-4b29-a5d2-cc8a92627ac1",
   "metadata": {},
   "outputs": [],
   "source": [
    "numeric_features , categorical_features = cls_feature(X)"
   ]
  },
  {
   "cell_type": "code",
   "execution_count": 16,
   "id": "73682796-b5c5-4636-9d38-d544ce5bfad1",
   "metadata": {},
   "outputs": [
    {
     "data": {
      "text/plain": [
       "['num_de_empregados', 'ano_de_estabelecimento', 'salario_prevalecente']"
      ]
     },
     "execution_count": 16,
     "metadata": {},
     "output_type": "execute_result"
    }
   ],
   "source": [
    "numeric_features"
   ]
  },
  {
   "cell_type": "code",
   "execution_count": 26,
   "id": "59488a0d-c1f0-4ad2-b2f9-39906eb1a61f",
   "metadata": {},
   "outputs": [
    {
     "data": {
      "text/plain": [
       "['continente',\n",
       " 'educacao_do_empregado',\n",
       " 'tem_experiencia_de_trabalho',\n",
       " 'requer_treinamento_de_trabalho',\n",
       " 'regiao_de_emprego',\n",
       " 'unidade_de_salario',\n",
       " 'posicao_em_tempo_integral',\n",
       " 'cat_empresa',\n",
       " 'cat_salario',\n",
       " 'cat_experiencia',\n",
       " 'tem_doutorado',\n",
       " 'tem_mestrado_exp',\n",
       " 'salario_hora']"
      ]
     },
     "execution_count": 26,
     "metadata": {},
     "output_type": "execute_result"
    }
   ],
   "source": [
    "categorical_features"
   ]
  },
  {
   "cell_type": "code",
   "execution_count": 31,
   "id": "b583bd8a-cd73-40f2-949c-39d4aeffcd1b",
   "metadata": {},
   "outputs": [],
   "source": [
    "ordinal_features = ['educacao_do_empregado','cat_empresa','cat_salario','cat_experiencia','unidade_de_salario']"
   ]
  },
  {
   "cell_type": "code",
   "execution_count": 32,
   "id": "81e94f26-7118-497a-bf6f-b24dbc0bf813",
   "metadata": {},
   "outputs": [],
   "source": [
    "nominal_features = [feature for feature in categorical_features if feature not in ordinal_features]\n"
   ]
  },
  {
   "cell_type": "code",
   "execution_count": 34,
   "id": "9f30325a-2a94-42f1-921c-f3d37706b2d6",
   "metadata": {},
   "outputs": [
    {
     "name": "stdout",
     "output_type": "stream",
     "text": [
      "Variáveis Ordinais:\n",
      "['educacao_do_empregado', 'cat_empresa', 'cat_salario', 'cat_experiencia', 'unidade_de_salario'] 5\n",
      "\n",
      "Variáveis Nominais:\n",
      "['continente', 'tem_experiencia_de_trabalho', 'requer_treinamento_de_trabalho', 'regiao_de_emprego', 'posicao_em_tempo_integral', 'tem_doutorado', 'tem_mestrado_exp', 'salario_hora'] 8\n"
     ]
    }
   ],
   "source": [
    "print(\"Variáveis Ordinais:\")\n",
    "print(ordinal_features, len(ordinal_features))\n",
    "\n",
    "print(\"\\nVariáveis Nominais:\")\n",
    "print(nominal_features,len (nominal_features))"
   ]
  },
  {
   "cell_type": "code",
   "execution_count": null,
   "id": "04364ef4-b9d9-4dce-b404-00816152593e",
   "metadata": {},
   "outputs": [],
   "source": [
    "f_ckass"
   ]
  },
  {
   "cell_type": "markdown",
   "id": "064e9299-fd15-49f9-a4d4-32121da51d69",
   "metadata": {
    "jp-MarkdownHeadingCollapsed": true,
    "tags": []
   },
   "source": [
    "## Prepro"
   ]
  },
  {
   "cell_type": "code",
   "execution_count": 56,
   "id": "7955b1f7-88ba-408b-9eda-8eabe58ac470",
   "metadata": {},
   "outputs": [],
   "source": [
    "nominal_transformer = Pipeline(steps=[\n",
    "    ('imputer', SimpleImputer(strategy='most_frequent')), #MODA\n",
    "    ('onehot', OneHotEncoder())\n",
    "])\n",
    "\n",
    "ordinal_transformer = Pipeline(steps=[\n",
    "    ('imputer', SimpleImputer(strategy='most_frequent')), #MODA\n",
    "    ('ordinal', OrdinalEncoder())\n",
    "])\n",
    "\n",
    "numerical_transformer = Pipeline([\n",
    "    ('imputer',SimpleImputer(strategy='median')),\n",
    "    ('scaler', StandardScaler())\n",
    "])\n",
    "\n",
    "\n",
    "preprocessor = ColumnTransformer(\n",
    "                transformers=[\n",
    "                    ('num', numerical_transformer, numeric_features),\n",
    "                    ('cat_nom', nominal_transformer, nominal_features),\n",
    "                    ('ord_nom', ordinal_transformer, ordinal_features)\n",
    "                ])\n",
    "\n"
   ]
  },
  {
   "cell_type": "code",
   "execution_count": 57,
   "id": "f0d394ae-0957-43d5-9f01-d7876597fb18",
   "metadata": {},
   "outputs": [
    {
     "data": {
      "text/plain": [
       "Pipeline(steps=[('preprocessor',\n",
       "                 ColumnTransformer(transformers=[('num',\n",
       "                                                  Pipeline(steps=[('imputer',\n",
       "                                                                   SimpleImputer(strategy='median')),\n",
       "                                                                  ('scaler',\n",
       "                                                                   StandardScaler())]),\n",
       "                                                  ['num_de_empregados',\n",
       "                                                   'ano_de_estabelecimento',\n",
       "                                                   'salario_prevalecente']),\n",
       "                                                 ('cat_nom',\n",
       "                                                  Pipeline(steps=[('imputer',\n",
       "                                                                   SimpleImputer(strategy='most_frequent')),\n",
       "                                                                  ('onehot',\n",
       "                                                                   OneHotEncoder())]),\n",
       "                                                  ['contine...\n",
       "                                                   'posicao_em_tempo_integral',\n",
       "                                                   'tem_doutorado',\n",
       "                                                   'tem_mestrado_exp',\n",
       "                                                   'salario_hora']),\n",
       "                                                 ('ord_nom',\n",
       "                                                  Pipeline(steps=[('imputer',\n",
       "                                                                   SimpleImputer(strategy='most_frequent')),\n",
       "                                                                  ('ordinal',\n",
       "                                                                   OrdinalEncoder())]),\n",
       "                                                  ['educacao_do_empregado',\n",
       "                                                   'cat_empresa', 'cat_salario',\n",
       "                                                   'cat_experiencia',\n",
       "                                                   'unidade_de_salario'])])),\n",
       "                ('rf_model',\n",
       "                 RandomForestClassifier(class_weight='balanced', max_depth=10,\n",
       "                                        random_state=0))])"
      ]
     },
     "execution_count": 57,
     "metadata": {},
     "output_type": "execute_result"
    }
   ],
   "source": [
    "pipeline = Pipeline([\n",
    "    ('preprocessor',preprocessor),\n",
    "    ('rf_model', RandomForestClassifier(n_estimators=100,max_depth=10,random_state=0,class_weight='balanced'))\n",
    "    \n",
    "])\n",
    "pipeline"
   ]
  },
  {
   "cell_type": "code",
   "execution_count": 58,
   "id": "662bfcd5-177a-4073-bf95-615340d0d232",
   "metadata": {},
   "outputs": [
    {
     "name": "stdout",
     "output_type": "stream",
     "text": [
      "Treino: [    1     2     4 ... 17832 17833 17835]\n",
      "Validação, [    0     3     5 ... 17829 17831 17834]\n",
      "Treino: [    0     1     2 ... 17833 17834 17835]\n",
      "Validação, [   15    17    20 ... 17813 17823 17824]\n",
      "Treino: [    0     1     2 ... 17833 17834 17835]\n",
      "Validação, [    4    10    12 ... 17814 17820 17832]\n",
      "Treino: [    0     3     4 ... 17833 17834 17835]\n",
      "Validação, [    1     2    18 ... 17827 17828 17830]\n",
      "Treino: [    0     1     2 ... 17831 17832 17834]\n",
      "Validação, [    6     7     9 ... 17822 17833 17835]\n"
     ]
    }
   ],
   "source": [
    "from sklearn.metrics import accuracy_score\n",
    "\n",
    "\n",
    "resultados = []\n",
    "# Defina o número de folds\n",
    "k = 5\n",
    "\n",
    "# Crie uma instância do KFold\n",
    "kf = KFold(n_splits=k, shuffle=True,random_state=42)\n",
    "\n",
    "# Loop através dos folds\n",
    "for train_index, test_index in kf.split(X):\n",
    "    print('Treino:',train_index)\n",
    "    print('Validação,',test_index)\n",
    "    # Divida os dados em conjuntos de treinamento e teste\n",
    "    X_train, X_test = X.iloc[train_index], X.iloc[test_index]\n",
    "    y_train, y_test = y.iloc[train_index], y.iloc[test_index]\n",
    "    \n",
    "    # Crie e ajuste o pipeline aos dados de treinamento\n",
    "    model = pipeline.fit(X_train, y_train)\n",
    "    \n",
    "    # Faça as previsões nos dados de teste\n",
    "    y_pred = pipeline.predict(X_test)\n",
    "    y_pred_proba = pipeline.predict_log_proba(X_test)\n",
    "    "
   ]
  },
  {
   "cell_type": "code",
   "execution_count": null,
   "id": "02ecb39f-a045-40be-9c60-bd220d163b35",
   "metadata": {},
   "outputs": [
    {
     "name": "stdout",
     "output_type": "stream",
     "text": [
      "Accuracy: 0.72\n",
      "Precision: 0.83\n",
      "Recall: 0.73\n",
      "F1-Score: 0.78\n",
      "Log Loss: 0.69\n",
      "ROC AUC Score: 0.71\n"
     ]
    }
   ],
   "source": []
  },
  {
   "cell_type": "code",
   "execution_count": 59,
   "id": "bd508ef8-b989-453a-8021-9290f1da400e",
   "metadata": {},
   "outputs": [
    {
     "name": "stdout",
     "output_type": "stream",
     "text": [
      "Accuracy: 0.72\n",
      "Precision: 0.83\n",
      "Recall: 0.73\n",
      "F1-Score: 0.78\n",
      "Log Loss: 0.69\n",
      "ROC AUC Score: 0.71\n"
     ]
    }
   ],
   "source": [
    "print_metrics(y_test,y_pred,y_pred_proba)"
   ]
  },
  {
   "cell_type": "code",
   "execution_count": 60,
   "id": "afb08ebf-d61c-4477-b589-e411eeaeeb45",
   "metadata": {},
   "outputs": [
    {
     "name": "stdout",
     "output_type": "stream",
     "text": [
      "ROC_AUC score:\n",
      " 0.7758003769551876\n"
     ]
    }
   ],
   "source": [
    "scores = cross_val_score(\n",
    "    model,    # classificador\n",
    "    X_train,          # dados treino\n",
    "    y_train,          # dados teste\n",
    "    cv=5,             # numero de folds\n",
    "    scoring='roc_auc' # métrica avaliação\n",
    ")\n",
    "\n",
    "print(\"ROC_AUC score:\\n\", np.mean(scores))"
   ]
  },
  {
   "cell_type": "code",
   "execution_count": null,
   "id": "60e2e764-44b4-4de7-aa04-3bd481b69b1c",
   "metadata": {},
   "outputs": [],
   "source": []
  }
 ],
 "metadata": {
  "kernelspec": {
   "display_name": "Python 3 (ipykernel)",
   "language": "python",
   "name": "python3"
  },
  "language_info": {
   "codemirror_mode": {
    "name": "ipython",
    "version": 3
   },
   "file_extension": ".py",
   "mimetype": "text/x-python",
   "name": "python",
   "nbconvert_exporter": "python",
   "pygments_lexer": "ipython3",
   "version": "3.9.13"
  }
 },
 "nbformat": 4,
 "nbformat_minor": 5
}
