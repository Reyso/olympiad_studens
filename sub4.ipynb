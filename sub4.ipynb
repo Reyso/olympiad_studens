{
 "cells": [
  {
   "cell_type": "markdown",
   "id": "1d85a4e2-8391-4a04-be20-4f8ea0826820",
   "metadata": {},
   "source": [
    "## Imports"
   ]
  },
  {
   "cell_type": "code",
   "execution_count": 50,
   "id": "357ab337-007a-48b7-b485-0273dede009f",
   "metadata": {},
   "outputs": [],
   "source": [
    "import pandas as pd\n",
    "import numpy as np\n",
    "\n",
    "import matplotlib.pyplot as plt\n",
    "import seaborn as sns\n",
    "\n",
    "from sklearn.model_selection import train_test_split, KFold\n",
    "from sklearn.compose import ColumnTransformer\n",
    "from sklearn.pipeline import Pipeline\n",
    "from sklearn.preprocessing import OneHotEncoder, OrdinalEncoder, MinMaxScaler, StandardScaler, LabelEncoder\n",
    "from sklearn.impute import SimpleImputer\n",
    "\n",
    "\n",
    "from sklearn.linear_model import LogisticRegression\n",
    "from sklearn.tree import DecisionTreeClassifier\n",
    "from sklearn.ensemble import RandomForestClassifier\n",
    "\n",
    "\n",
    "from sklearn.model_selection import StratifiedKFold\n",
    "from sklearn.metrics import accuracy_score, roc_auc_score, f1_score"
   ]
  },
  {
   "cell_type": "code",
   "execution_count": 51,
   "id": "e03ff82f-fa58-4cdc-a7ac-3564418441ae",
   "metadata": {},
   "outputs": [],
   "source": [
    "def cls_feature(X,max_cat = 10):\n",
    "        #Agrupando features numéricas\n",
    "    numeric_features  = [cls for cls in X.columns if X[cls].dtype == 'float64' or X[cls].dtype =='int64']\n",
    "    # print('>>numeric_features:', numeric_features ,\n",
    "          # len(numeric_features))\n",
    "\n",
    "\n",
    "    #Agrupando features categoricas\n",
    "    categorical_features = [cls for cls in X.columns if X[cls].dtypes == 'object' and X[cls].nunique()<=max_cat]\n",
    "    # print('\\n>>cat_features:', cat_features ,\n",
    "          # len(cat_features))\n",
    "    return numeric_features , categorical_features"
   ]
  },
  {
   "cell_type": "code",
   "execution_count": 52,
   "id": "cea49249-b7e3-41c1-bf93-4258237bdf5c",
   "metadata": {},
   "outputs": [],
   "source": [
    "\n",
    "def stratified_cross_validation(X, y, model, n_splits=5, random_state=None):\n",
    "    \"\"\"\n",
    "    Realiza validação cruzada com estratificação.\n",
    "    \n",
    "    Parâmetros:\n",
    "        - X: matriz de características.\n",
    "        - y: vetor de rótulos das classes.\n",
    "        - model: modelo de machine learning a ser avaliado.\n",
    "        - n_splits: número de divisões (folds) para a validação cruzada (padrão: 5).\n",
    "        - random_state: semente para reprodução dos resultados (padrão: None).\n",
    "    \n",
    "    Retorna:\n",
    "        - scores: uma lista contendo as métricas de desempenho obtidas para cada fold.\n",
    "    \"\"\"\n",
    "    skf = StratifiedKFold(n_splits=n_splits, random_state=random_state, shuffle=True)\n",
    "    scores = []\n",
    "    \n",
    "    for train_index, test_index in skf.split(X, y):\n",
    "        X_train, X_test = X[train_index], X[test_index]\n",
    "        y_train, y_test = y[train_index], y[test_index]\n",
    "        \n",
    "        model.fit(X_train, y_train)\n",
    "        y_pred = model.predict(X_test)\n",
    "        \n",
    "        accuracy = accuracy_score(y_test, y_pred)\n",
    "        roc_auc = roc_auc_score(y_test, y_pred)\n",
    "        f1 = f1_score(y_test, y_pred)\n",
    "        \n",
    "        accuracy_scores.append(accuracy)\n",
    "        roc_auc_scores.append(roc_auc)\n",
    "        f1_scores.append(f1)\n",
    "    \n",
    "    return accuracy_scores, roc_auc_scores, f1_scores\n"
   ]
  },
  {
   "cell_type": "markdown",
   "id": "6c36d96b-fd11-4543-9362-27e70062f6c5",
   "metadata": {},
   "source": [
    "## Start"
   ]
  },
  {
   "cell_type": "code",
   "execution_count": 108,
   "id": "d834191e-0eb8-48ee-9304-4070e099da9d",
   "metadata": {},
   "outputs": [],
   "source": [
    "df_train = pd.read_csv('data/atual_train.csv')\n",
    "df_test = pd.read_csv('data/test.csv')"
   ]
  },
  {
   "cell_type": "code",
   "execution_count": 109,
   "id": "745a0900-025d-428c-8bf0-e1b87a99d3e5",
   "metadata": {},
   "outputs": [
    {
     "data": {
      "text/html": [
       "<div>\n",
       "<style scoped>\n",
       "    .dataframe tbody tr th:only-of-type {\n",
       "        vertical-align: middle;\n",
       "    }\n",
       "\n",
       "    .dataframe tbody tr th {\n",
       "        vertical-align: top;\n",
       "    }\n",
       "\n",
       "    .dataframe thead th {\n",
       "        text-align: right;\n",
       "    }\n",
       "</style>\n",
       "<table border=\"1\" class=\"dataframe\">\n",
       "  <thead>\n",
       "    <tr style=\"text-align: right;\">\n",
       "      <th></th>\n",
       "      <th>continente</th>\n",
       "      <th>educacao_do_empregado</th>\n",
       "      <th>tem_experiencia_de_trabalho</th>\n",
       "      <th>requer_treinamento_de_trabalho</th>\n",
       "      <th>num_de_empregados</th>\n",
       "      <th>ano_de_estabelecimento</th>\n",
       "      <th>regiao_de_emprego</th>\n",
       "      <th>salario_prevalecente</th>\n",
       "      <th>unidade_de_salario</th>\n",
       "      <th>posicao_em_tempo_integral</th>\n",
       "      <th>status_do_caso</th>\n",
       "      <th>cat_empresa</th>\n",
       "      <th>cat_salario</th>\n",
       "      <th>cat_experiencia</th>\n",
       "    </tr>\n",
       "  </thead>\n",
       "  <tbody>\n",
       "    <tr>\n",
       "      <th>0</th>\n",
       "      <td>Europa</td>\n",
       "      <td>Ensino Médio</td>\n",
       "      <td>N</td>\n",
       "      <td>S</td>\n",
       "      <td>2087</td>\n",
       "      <td>1855</td>\n",
       "      <td>Sul</td>\n",
       "      <td>69711.2400</td>\n",
       "      <td>Ano</td>\n",
       "      <td>1</td>\n",
       "      <td>0</td>\n",
       "      <td>antiga</td>\n",
       "      <td>medio_baixo</td>\n",
       "      <td>3</td>\n",
       "    </tr>\n",
       "    <tr>\n",
       "      <th>1</th>\n",
       "      <td>Ásia</td>\n",
       "      <td>Mestrado</td>\n",
       "      <td>S</td>\n",
       "      <td>N</td>\n",
       "      <td>5991</td>\n",
       "      <td>2003</td>\n",
       "      <td>Meio-Oeste</td>\n",
       "      <td>52931.3800</td>\n",
       "      <td>Ano</td>\n",
       "      <td>1</td>\n",
       "      <td>1</td>\n",
       "      <td>nova</td>\n",
       "      <td>medio_baixo</td>\n",
       "      <td>2</td>\n",
       "    </tr>\n",
       "    <tr>\n",
       "      <th>2</th>\n",
       "      <td>Ásia</td>\n",
       "      <td>Ensino Médio</td>\n",
       "      <td>N</td>\n",
       "      <td>N</td>\n",
       "      <td>1426</td>\n",
       "      <td>2000</td>\n",
       "      <td>Ilha</td>\n",
       "      <td>110830.2100</td>\n",
       "      <td>Ano</td>\n",
       "      <td>1</td>\n",
       "      <td>0</td>\n",
       "      <td>nova</td>\n",
       "      <td>alto</td>\n",
       "      <td>4</td>\n",
       "    </tr>\n",
       "    <tr>\n",
       "      <th>3</th>\n",
       "      <td>Ásia</td>\n",
       "      <td>Ensino Médio</td>\n",
       "      <td>N</td>\n",
       "      <td>N</td>\n",
       "      <td>3846</td>\n",
       "      <td>1992</td>\n",
       "      <td>Meio-Oeste</td>\n",
       "      <td>91884.6800</td>\n",
       "      <td>Semana</td>\n",
       "      <td>1</td>\n",
       "      <td>0</td>\n",
       "      <td>intermediaria</td>\n",
       "      <td>medio_alto</td>\n",
       "      <td>4</td>\n",
       "    </tr>\n",
       "    <tr>\n",
       "      <th>4</th>\n",
       "      <td>Ásia</td>\n",
       "      <td>Ensino Superior</td>\n",
       "      <td>S</td>\n",
       "      <td>N</td>\n",
       "      <td>3957</td>\n",
       "      <td>1949</td>\n",
       "      <td>Nordeste</td>\n",
       "      <td>138155.2400</td>\n",
       "      <td>Ano</td>\n",
       "      <td>1</td>\n",
       "      <td>1</td>\n",
       "      <td>intermediaria</td>\n",
       "      <td>alto</td>\n",
       "      <td>2</td>\n",
       "    </tr>\n",
       "    <tr>\n",
       "      <th>5</th>\n",
       "      <td>Ásia</td>\n",
       "      <td>Mestrado</td>\n",
       "      <td>S</td>\n",
       "      <td>N</td>\n",
       "      <td>2374</td>\n",
       "      <td>1998</td>\n",
       "      <td>Oeste</td>\n",
       "      <td>129632.2700</td>\n",
       "      <td>Ano</td>\n",
       "      <td>0</td>\n",
       "      <td>1</td>\n",
       "      <td>nova</td>\n",
       "      <td>alto</td>\n",
       "      <td>2</td>\n",
       "    </tr>\n",
       "    <tr>\n",
       "      <th>6</th>\n",
       "      <td>Ásia</td>\n",
       "      <td>Mestrado</td>\n",
       "      <td>S</td>\n",
       "      <td>N</td>\n",
       "      <td>496</td>\n",
       "      <td>1998</td>\n",
       "      <td>Nordeste</td>\n",
       "      <td>111491.3900</td>\n",
       "      <td>Ano</td>\n",
       "      <td>1</td>\n",
       "      <td>1</td>\n",
       "      <td>nova</td>\n",
       "      <td>alto</td>\n",
       "      <td>2</td>\n",
       "    </tr>\n",
       "    <tr>\n",
       "      <th>7</th>\n",
       "      <td>América do Sul</td>\n",
       "      <td>Ensino Superior</td>\n",
       "      <td>N</td>\n",
       "      <td>N</td>\n",
       "      <td>631</td>\n",
       "      <td>1999</td>\n",
       "      <td>Sul</td>\n",
       "      <td>547.0719</td>\n",
       "      <td>Hora</td>\n",
       "      <td>1</td>\n",
       "      <td>0</td>\n",
       "      <td>nova</td>\n",
       "      <td>baixo</td>\n",
       "      <td>4</td>\n",
       "    </tr>\n",
       "    <tr>\n",
       "      <th>8</th>\n",
       "      <td>Ásia</td>\n",
       "      <td>Mestrado</td>\n",
       "      <td>N</td>\n",
       "      <td>N</td>\n",
       "      <td>5795</td>\n",
       "      <td>2000</td>\n",
       "      <td>Nordeste</td>\n",
       "      <td>136521.7200</td>\n",
       "      <td>Ano</td>\n",
       "      <td>1</td>\n",
       "      <td>1</td>\n",
       "      <td>nova</td>\n",
       "      <td>alto</td>\n",
       "      <td>4</td>\n",
       "    </tr>\n",
       "    <tr>\n",
       "      <th>9</th>\n",
       "      <td>Ásia</td>\n",
       "      <td>Mestrado</td>\n",
       "      <td>S</td>\n",
       "      <td>N</td>\n",
       "      <td>70</td>\n",
       "      <td>2010</td>\n",
       "      <td>Oeste</td>\n",
       "      <td>69027.5600</td>\n",
       "      <td>Ano</td>\n",
       "      <td>1</td>\n",
       "      <td>1</td>\n",
       "      <td>nova</td>\n",
       "      <td>medio_baixo</td>\n",
       "      <td>2</td>\n",
       "    </tr>\n",
       "    <tr>\n",
       "      <th>10</th>\n",
       "      <td>Europa</td>\n",
       "      <td>Ensino Superior</td>\n",
       "      <td>S</td>\n",
       "      <td>S</td>\n",
       "      <td>99</td>\n",
       "      <td>1996</td>\n",
       "      <td>Oeste</td>\n",
       "      <td>42594.4200</td>\n",
       "      <td>Ano</td>\n",
       "      <td>1</td>\n",
       "      <td>1</td>\n",
       "      <td>nova</td>\n",
       "      <td>medio_baixo</td>\n",
       "      <td>1</td>\n",
       "    </tr>\n",
       "    <tr>\n",
       "      <th>11</th>\n",
       "      <td>América do Sul</td>\n",
       "      <td>Ensino Superior</td>\n",
       "      <td>S</td>\n",
       "      <td>N</td>\n",
       "      <td>25914</td>\n",
       "      <td>2004</td>\n",
       "      <td>Sul</td>\n",
       "      <td>806.2222</td>\n",
       "      <td>Hora</td>\n",
       "      <td>1</td>\n",
       "      <td>0</td>\n",
       "      <td>nova</td>\n",
       "      <td>baixo</td>\n",
       "      <td>2</td>\n",
       "    </tr>\n",
       "  </tbody>\n",
       "</table>\n",
       "</div>"
      ],
      "text/plain": [
       "        continente educacao_do_empregado tem_experiencia_de_trabalho  \\\n",
       "0           Europa          Ensino Médio                           N   \n",
       "1             Ásia              Mestrado                           S   \n",
       "2             Ásia          Ensino Médio                           N   \n",
       "3             Ásia          Ensino Médio                           N   \n",
       "4             Ásia       Ensino Superior                           S   \n",
       "5             Ásia              Mestrado                           S   \n",
       "6             Ásia              Mestrado                           S   \n",
       "7   América do Sul       Ensino Superior                           N   \n",
       "8             Ásia              Mestrado                           N   \n",
       "9             Ásia              Mestrado                           S   \n",
       "10          Europa       Ensino Superior                           S   \n",
       "11  América do Sul       Ensino Superior                           S   \n",
       "\n",
       "   requer_treinamento_de_trabalho  num_de_empregados  ano_de_estabelecimento  \\\n",
       "0                               S               2087                    1855   \n",
       "1                               N               5991                    2003   \n",
       "2                               N               1426                    2000   \n",
       "3                               N               3846                    1992   \n",
       "4                               N               3957                    1949   \n",
       "5                               N               2374                    1998   \n",
       "6                               N                496                    1998   \n",
       "7                               N                631                    1999   \n",
       "8                               N               5795                    2000   \n",
       "9                               N                 70                    2010   \n",
       "10                              S                 99                    1996   \n",
       "11                              N              25914                    2004   \n",
       "\n",
       "   regiao_de_emprego  salario_prevalecente unidade_de_salario  \\\n",
       "0                Sul            69711.2400                Ano   \n",
       "1         Meio-Oeste            52931.3800                Ano   \n",
       "2               Ilha           110830.2100                Ano   \n",
       "3         Meio-Oeste            91884.6800             Semana   \n",
       "4           Nordeste           138155.2400                Ano   \n",
       "5              Oeste           129632.2700                Ano   \n",
       "6           Nordeste           111491.3900                Ano   \n",
       "7                Sul              547.0719               Hora   \n",
       "8           Nordeste           136521.7200                Ano   \n",
       "9              Oeste            69027.5600                Ano   \n",
       "10             Oeste            42594.4200                Ano   \n",
       "11               Sul              806.2222               Hora   \n",
       "\n",
       "    posicao_em_tempo_integral  status_do_caso    cat_empresa  cat_salario  \\\n",
       "0                           1               0         antiga  medio_baixo   \n",
       "1                           1               1           nova  medio_baixo   \n",
       "2                           1               0           nova         alto   \n",
       "3                           1               0  intermediaria   medio_alto   \n",
       "4                           1               1  intermediaria         alto   \n",
       "5                           0               1           nova         alto   \n",
       "6                           1               1           nova         alto   \n",
       "7                           1               0           nova        baixo   \n",
       "8                           1               1           nova         alto   \n",
       "9                           1               1           nova  medio_baixo   \n",
       "10                          1               1           nova  medio_baixo   \n",
       "11                          1               0           nova        baixo   \n",
       "\n",
       "    cat_experiencia  \n",
       "0                 3  \n",
       "1                 2  \n",
       "2                 4  \n",
       "3                 4  \n",
       "4                 2  \n",
       "5                 2  \n",
       "6                 2  \n",
       "7                 4  \n",
       "8                 4  \n",
       "9                 2  \n",
       "10                1  \n",
       "11                2  "
      ]
     },
     "execution_count": 109,
     "metadata": {},
     "output_type": "execute_result"
    }
   ],
   "source": [
    "df = df_train.drop(columns='id_do_caso');df.head(12)"
   ]
  },
  {
   "cell_type": "code",
   "execution_count": null,
   "id": "1f9c4422-d7c4-4017-bfa9-1a846b56dd01",
   "metadata": {},
   "outputs": [],
   "source": []
  },
  {
   "cell_type": "code",
   "execution_count": 110,
   "id": "a34b6d02-043c-4d56-81ba-d63586e916c7",
   "metadata": {},
   "outputs": [
    {
     "data": {
      "text/plain": [
       "1    11937\n",
       "0     5899\n",
       "Name: status_do_caso, dtype: int64"
      ]
     },
     "execution_count": 110,
     "metadata": {},
     "output_type": "execute_result"
    }
   ],
   "source": [
    "df['status_do_caso'].value_counts()"
   ]
  },
  {
   "cell_type": "code",
   "execution_count": 111,
   "id": "449f75c0-465f-408e-869b-55b8e607ae66",
   "metadata": {},
   "outputs": [
    {
     "name": "stderr",
     "output_type": "stream",
     "text": [
      "/opt/anaconda/lib/python3.9/site-packages/seaborn/_decorators.py:36: FutureWarning: Pass the following variable as a keyword arg: x. From version 0.12, the only valid positional argument will be `data`, and passing other arguments without an explicit keyword will result in an error or misinterpretation.\n",
      "  warnings.warn(\n"
     ]
    },
    {
     "data": {
      "text/plain": [
       "<AxesSubplot:xlabel='status_do_caso', ylabel='count'>"
      ]
     },
     "execution_count": 111,
     "metadata": {},
     "output_type": "execute_result"
    },
    {
     "data": {
      "image/png": "[encoded data removed]",
      "text/plain": [
       "<Figure size 640x480 with 1 Axes>"
      ]
     },
     "metadata": {},
     "output_type": "display_data"
    }
   ],
   "source": [
    "sns.countplot(df['status_do_caso'])"
   ]
  },
  {
   "cell_type": "code",
   "execution_count": 112,
   "id": "999c8cf0-4f69-466c-8329-6b48500c13d7",
   "metadata": {},
   "outputs": [],
   "source": [
    "# Separar os dados em features (X) e target (y)\n",
    "X = df.drop(columns='status_do_caso')  # Substitua 'target_column' pelo nome da coluna alvo\n",
    "y = df['status_do_caso']"
   ]
  },
  {
   "cell_type": "code",
   "execution_count": 113,
   "id": "8389ae67-5daa-451f-9d68-51ed5c5ace6a",
   "metadata": {},
   "outputs": [],
   "source": [
    "numeric_features, categorical_features = cls_feature(X)"
   ]
  },
  {
   "cell_type": "code",
   "execution_count": 114,
   "id": "1ca7c16d-6181-48a9-a1f8-7dae0e61fd80",
   "metadata": {},
   "outputs": [
    {
     "data": {
      "text/plain": [
       "['num_de_empregados',\n",
       " 'ano_de_estabelecimento',\n",
       " 'salario_prevalecente',\n",
       " 'posicao_em_tempo_integral',\n",
       " 'cat_experiencia']"
      ]
     },
     "execution_count": 114,
     "metadata": {},
     "output_type": "execute_result"
    }
   ],
   "source": [
    "numeric_features"
   ]
  },
  {
   "cell_type": "code",
   "execution_count": 115,
   "id": "1860f797-1dae-408b-9855-0b0ad8f3e257",
   "metadata": {},
   "outputs": [
    {
     "data": {
      "text/plain": [
       "['continente',\n",
       " 'educacao_do_empregado',\n",
       " 'tem_experiencia_de_trabalho',\n",
       " 'requer_treinamento_de_trabalho',\n",
       " 'regiao_de_emprego',\n",
       " 'unidade_de_salario',\n",
       " 'cat_empresa',\n",
       " 'cat_salario']"
      ]
     },
     "execution_count": 115,
     "metadata": {},
     "output_type": "execute_result"
    }
   ],
   "source": [
    "categorical_features"
   ]
  },
  {
   "cell_type": "code",
   "execution_count": 116,
   "id": "5807bced-d120-45e6-abb5-51dd5fb7daec",
   "metadata": {},
   "outputs": [],
   "source": [
    "X_train,X_valid,y_train,y_valid = train_test_split(X,y,train_size = 0.7,random_state=42)"
   ]
  },
  {
   "cell_type": "code",
   "execution_count": 117,
   "id": "0e829174-88d8-4e48-aea3-aa0647eccc06",
   "metadata": {},
   "outputs": [],
   "source": [
    "# Pipeline para pré-processamento das variáveis numéricas\n",
    "numeric_transformer = Pipeline([\n",
    "    ('imputer', SimpleImputer(strategy='median')),\n",
    "    ('scaler', StandardScaler())\n",
    "])\n",
    "\n",
    "# Pipeline para pré-processamento das variáveis categóricas\n",
    "categorical_transformer = Pipeline([\n",
    "    ('imputer', SimpleImputer(strategy='constant', fill_value='missing')),\n",
    "    ('encoder', OneHotEncoder(handle_unknown='ignore', sparse=False))\n",
    "])\n",
    "\n",
    "# Combinando os pipelines de pré-processamento\n",
    "preprocessor = ColumnTransformer([\n",
    "    (\"num\", numeric_transformer, numeric_features),\n",
    "    (\"cat\", categorical_transformer, categorical_features)\n",
    "])"
   ]
  },
  {
   "cell_type": "code",
   "execution_count": 118,
   "id": "81ad5c6f-04e9-4ea8-b426-77c65c6f44d5",
   "metadata": {},
   "outputs": [],
   "source": [
    "# Seu modelo de classificação\n",
    "model = RandomForestClassifier(n_estimators=200)\n",
    "\n",
    "# Pipeline completo com pré-processamento e modelo de classificação\n",
    "pipeline = Pipeline([\n",
    "    (\"preprocessor\", preprocessor),\n",
    "    (\"model\", model)\n",
    "])"
   ]
  },
  {
   "cell_type": "code",
   "execution_count": 119,
   "id": "86a32c40-63c5-4c68-b3dd-6c44f8d6714e",
   "metadata": {},
   "outputs": [
    {
     "data": {
      "text/plain": [
       "Pipeline(steps=[('preprocessor',\n",
       "                 ColumnTransformer(transformers=[('num',\n",
       "                                                  Pipeline(steps=[('imputer',\n",
       "                                                                   SimpleImputer(strategy='median')),\n",
       "                                                                  ('scaler',\n",
       "                                                                   StandardScaler())]),\n",
       "                                                  ['num_de_empregados',\n",
       "                                                   'ano_de_estabelecimento',\n",
       "                                                   'salario_prevalecente',\n",
       "                                                   'posicao_em_tempo_integral',\n",
       "                                                   'cat_experiencia']),\n",
       "                                                 ('cat',\n",
       "                                                  Pipeline(steps=[('imputer',\n",
       "                                                                   SimpleImputer(fill_value='missing',\n",
       "                                                                                 strategy='constant')),\n",
       "                                                                  ('encoder',\n",
       "                                                                   OneHotEncoder(handle_unknown='ignore',\n",
       "                                                                                 sparse=False))]),\n",
       "                                                  ['continente',\n",
       "                                                   'educacao_do_empregado',\n",
       "                                                   'tem_experiencia_de_trabalho',\n",
       "                                                   'requer_treinamento_de_trabalho',\n",
       "                                                   'regiao_de_emprego',\n",
       "                                                   'unidade_de_salario',\n",
       "                                                   'cat_empresa',\n",
       "                                                   'cat_salario'])])),\n",
       "                ('model', RandomForestClassifier(n_estimators=200))])"
      ]
     },
     "execution_count": 119,
     "metadata": {},
     "output_type": "execute_result"
    }
   ],
   "source": [
    "pipeline.fit(X_train,y_train)"
   ]
  },
  {
   "cell_type": "code",
   "execution_count": 120,
   "id": "5cef4edc-f85c-4d82-aa64-586673134299",
   "metadata": {},
   "outputs": [
    {
     "data": {
      "text/plain": [
       "array([1, 1, 1, ..., 0, 1, 1])"
      ]
     },
     "execution_count": 120,
     "metadata": {},
     "output_type": "execute_result"
    }
   ],
   "source": [
    "y_pred = pipeline.predict(X_valid);\n",
    "y_pred"
   ]
  },
  {
   "cell_type": "code",
   "execution_count": 122,
   "id": "78c6342f-6d5a-4fb1-9780-52b731a4076f",
   "metadata": {},
   "outputs": [
    {
     "data": {
      "text/plain": [
       "0.6550542820335002"
      ]
     },
     "execution_count": 122,
     "metadata": {},
     "output_type": "execute_result"
    }
   ],
   "source": [
    "# Calcular o AUC-ROC\n",
    "auc_roc = roc_auc_score(y_valid, y_pred)\n",
    "auc_roc"
   ]
  },
  {
   "cell_type": "code",
   "execution_count": 123,
   "id": "99f5b83e-9e94-4f59-a5b0-dff53af94b31",
   "metadata": {},
   "outputs": [
    {
     "data": {
      "text/plain": [
       "0.7956701857543766"
      ]
     },
     "execution_count": 123,
     "metadata": {},
     "output_type": "execute_result"
    }
   ],
   "source": [
    "# Calcular o F1-score\n",
    "f1 = f1_score(y_valid, y_pred)\n",
    "f1"
   ]
  },
  {
   "cell_type": "code",
   "execution_count": 124,
   "id": "7c41556d-8d8d-45cf-b8a4-9b37e0e3b7fc",
   "metadata": {},
   "outputs": [
    {
     "name": "stdout",
     "output_type": "stream",
     "text": [
      "Relatório de Classificação:\n",
      "              precision    recall  f1-score   support\n",
      "\n",
      "           0       0.57      0.49      0.53      1739\n",
      "           1       0.77      0.82      0.80      3612\n",
      "\n",
      "    accuracy                           0.71      5351\n",
      "   macro avg       0.67      0.66      0.66      5351\n",
      "weighted avg       0.70      0.71      0.71      5351\n",
      "\n"
     ]
    }
   ],
   "source": [
    "from sklearn.metrics import classification_report\n",
    "# Obter relatório de classificação\n",
    "classification_report = classification_report(y_valid, y_pred)\n",
    "\n",
    "print(\"Relatório de Classificação:\")\n",
    "print(classification_report)"
   ]
  },
  {
   "cell_type": "code",
   "execution_count": null,
   "id": "e2e23244-854f-440b-b4f9-a3418c61c018",
   "metadata": {},
   "outputs": [],
   "source": []
  }
 ],
 "metadata": {
  "kernelspec": {
   "display_name": "Python 3 (ipykernel)",
   "language": "python",
   "name": "python3"
  },
  "language_info": {
   "codemirror_mode": {
    "name": "ipython",
    "version": 3
   },
   "file_extension": ".py",
   "mimetype": "text/x-python",
   "name": "python",
   "nbconvert_exporter": "python",
   "pygments_lexer": "ipython3",
   "version": "3.9.13"
  }
 },
 "nbformat": 4,
 "nbformat_minor": 5
}
