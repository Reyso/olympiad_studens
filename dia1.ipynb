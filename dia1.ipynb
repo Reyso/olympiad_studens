{
 "cells": [
  {
   "cell_type": "markdown",
   "id": "ea53ce73-0e0b-4152-b330-5c698412693a",
   "metadata": {
    "tags": []
   },
   "source": [
    "## Imports e funcs"
   ]
  },
  {
   "cell_type": "code",
   "execution_count": 65,
   "id": "ee62acca-21de-47fd-b186-29e51626472a",
   "metadata": {},
   "outputs": [],
   "source": [
    "import pandas as pd\n",
    "import numpy as np\n",
    "\n",
    "\n",
    "from sklearn.model_selection import (\n",
    "    train_test_split, KFold)\n",
    "from sklearn.compose import ColumnTransformer\n",
    "from sklearn.pipeline import Pipeline\n",
    "from sklearn.preprocessing import (\n",
    "    OneHotEncoder, OrdinalEncoder, MinMaxScaler, StandardScaler, LabelEncoder)\n",
    "from sklearn.impute import SimpleImputer\n",
    "from sklearn.linear_model import LogisticRegression\n",
    "from sklearn.metrics import fbeta_score\n",
    "from sklearn.metrics import classification_report\n",
    "from sklearn.metrics import roc_auc_score\n",
    "\n",
    "\n",
    "import matplotlib.pyplot as plt\n",
    "import seaborn as sns"
   ]
  },
  {
   "cell_type": "code",
   "execution_count": 32,
   "id": "61f82c99-4236-4842-955a-afb7d2b6c7a4",
   "metadata": {},
   "outputs": [],
   "source": [
    "\n",
    "\n",
    "def plotbar(df, x_column, horizontal=False):\n",
    "    counts = df[x_column].value_counts()\n",
    "    \n",
    "    plt.figure(figsize=(10, 6))  # Ajuste o tamanho conforme necessário\n",
    "    \n",
    "    if horizontal:\n",
    "        bars = plt.barh(counts.index, counts.values)\n",
    "        plt.xlabel('Quantidade')\n",
    "        plt.ylabel(x_column)\n",
    "    else:\n",
    "        bars = plt.bar(counts.index, counts.values)\n",
    "        plt.xlabel(x_column)\n",
    "        plt.ylabel('Quantidade')\n",
    "    \n",
    "    plt.title('Gráfico de Barras')\n",
    "    \n",
    "    # Adicionar os valores do eixo y nas barras\n",
    "    for bar in bars:\n",
    "        if horizontal:\n",
    "            width = bar.get_width()\n",
    "            plt.text(width, bar.get_y() + bar.get_height() / 2, str(int(width)), ha='left', va='center')\n",
    "        else:\n",
    "            height = bar.get_height()\n",
    "            plt.text(bar.get_x() + bar.get_width() / 2, height, str(int(height)), ha='center', va='bottom')\n",
    "    \n",
    "    plt.show()\n"
   ]
  },
  {
   "cell_type": "code",
   "execution_count": 33,
   "id": "da285b21-b170-410b-be0e-7f40ad14d67e",
   "metadata": {},
   "outputs": [],
   "source": [
    "def cls_feature(X,max_cat = 10):\n",
    "        #Agrupando features numéricas\n",
    "    numeric_features  = [cls for cls in X.columns if X[cls].dtype == 'float64' or X[cls].dtype =='int64']\n",
    "    # print('>>numeric_features:', numeric_features ,\n",
    "          # len(numeric_features))\n",
    "\n",
    "\n",
    "    #Agrupando features categoricas\n",
    "    categorical_features = [cls for cls in X.columns if X[cls].dtypes == 'object' and X[cls].nunique()<=max_cat]\n",
    "    # print('\\n>>cat_features:', cat_features ,\n",
    "          # len(cat_features))\n",
    "    return numeric_features , categorical_features"
   ]
  },
  {
   "cell_type": "markdown",
   "id": "260b33a3-6810-47f9-b086-8318f2c8a99f",
   "metadata": {},
   "source": [
    "## Start"
   ]
  },
  {
   "cell_type": "code",
   "execution_count": 34,
   "id": "08dc8f36-c242-4e89-9ec9-aaba10b6884c",
   "metadata": {},
   "outputs": [],
   "source": [
    "data_train = pd.read_csv('data/train.csv')\n",
    "data_test =  pd.read_csv('data/test.csv')"
   ]
  },
  {
   "cell_type": "code",
   "execution_count": 35,
   "id": "5e73846b-b812-41ea-b264-406934fd7379",
   "metadata": {},
   "outputs": [
    {
     "data": {
      "text/html": [
       "<div>\n",
       "<style scoped>\n",
       "    .dataframe tbody tr th:only-of-type {\n",
       "        vertical-align: middle;\n",
       "    }\n",
       "\n",
       "    .dataframe tbody tr th {\n",
       "        vertical-align: top;\n",
       "    }\n",
       "\n",
       "    .dataframe thead th {\n",
       "        text-align: right;\n",
       "    }\n",
       "</style>\n",
       "<table border=\"1\" class=\"dataframe\">\n",
       "  <thead>\n",
       "    <tr style=\"text-align: right;\">\n",
       "      <th></th>\n",
       "      <th>id_do_caso</th>\n",
       "      <th>continente</th>\n",
       "      <th>educacao_do_empregado</th>\n",
       "      <th>tem_experiencia_de_trabalho</th>\n",
       "      <th>requer_treinamento_de_trabalho</th>\n",
       "      <th>num_de_empregados</th>\n",
       "      <th>ano_de_estabelecimento</th>\n",
       "      <th>regiao_de_emprego</th>\n",
       "      <th>salario_prevalecente</th>\n",
       "      <th>unidade_de_salario</th>\n",
       "      <th>posicao_em_tempo_integral</th>\n",
       "      <th>status_do_caso</th>\n",
       "    </tr>\n",
       "  </thead>\n",
       "  <tbody>\n",
       "    <tr>\n",
       "      <th>0</th>\n",
       "      <td>EZYV10567</td>\n",
       "      <td>Europa</td>\n",
       "      <td>Ensino Médio</td>\n",
       "      <td>N</td>\n",
       "      <td>S</td>\n",
       "      <td>2087</td>\n",
       "      <td>1855</td>\n",
       "      <td>Sul</td>\n",
       "      <td>69711.24</td>\n",
       "      <td>Ano</td>\n",
       "      <td>S</td>\n",
       "      <td>Negado</td>\n",
       "    </tr>\n",
       "    <tr>\n",
       "      <th>1</th>\n",
       "      <td>EZYV5505</td>\n",
       "      <td>Ásia</td>\n",
       "      <td>Mestrado</td>\n",
       "      <td>S</td>\n",
       "      <td>N</td>\n",
       "      <td>5991</td>\n",
       "      <td>2003</td>\n",
       "      <td>Meio-Oeste</td>\n",
       "      <td>52931.38</td>\n",
       "      <td>Ano</td>\n",
       "      <td>S</td>\n",
       "      <td>Aprovado</td>\n",
       "    </tr>\n",
       "    <tr>\n",
       "      <th>2</th>\n",
       "      <td>EZYV5207</td>\n",
       "      <td>Ásia</td>\n",
       "      <td>Ensino Médio</td>\n",
       "      <td>N</td>\n",
       "      <td>N</td>\n",
       "      <td>1426</td>\n",
       "      <td>2000</td>\n",
       "      <td>Ilha</td>\n",
       "      <td>110830.21</td>\n",
       "      <td>Ano</td>\n",
       "      <td>S</td>\n",
       "      <td>Negado</td>\n",
       "    </tr>\n",
       "    <tr>\n",
       "      <th>3</th>\n",
       "      <td>EZYV7545</td>\n",
       "      <td>Ásia</td>\n",
       "      <td>Ensino Médio</td>\n",
       "      <td>N</td>\n",
       "      <td>N</td>\n",
       "      <td>3846</td>\n",
       "      <td>1992</td>\n",
       "      <td>Meio-Oeste</td>\n",
       "      <td>91884.68</td>\n",
       "      <td>Semana</td>\n",
       "      <td>S</td>\n",
       "      <td>Negado</td>\n",
       "    </tr>\n",
       "    <tr>\n",
       "      <th>4</th>\n",
       "      <td>EZYV16071</td>\n",
       "      <td>Ásia</td>\n",
       "      <td>Ensino Superior</td>\n",
       "      <td>S</td>\n",
       "      <td>N</td>\n",
       "      <td>3957</td>\n",
       "      <td>1949</td>\n",
       "      <td>Nordeste</td>\n",
       "      <td>138155.24</td>\n",
       "      <td>Ano</td>\n",
       "      <td>S</td>\n",
       "      <td>Aprovado</td>\n",
       "    </tr>\n",
       "    <tr>\n",
       "      <th>...</th>\n",
       "      <td>...</td>\n",
       "      <td>...</td>\n",
       "      <td>...</td>\n",
       "      <td>...</td>\n",
       "      <td>...</td>\n",
       "      <td>...</td>\n",
       "      <td>...</td>\n",
       "      <td>...</td>\n",
       "      <td>...</td>\n",
       "      <td>...</td>\n",
       "      <td>...</td>\n",
       "      <td>...</td>\n",
       "    </tr>\n",
       "    <tr>\n",
       "      <th>17831</th>\n",
       "      <td>EZYV17821</td>\n",
       "      <td>Ásia</td>\n",
       "      <td>Mestrado</td>\n",
       "      <td>S</td>\n",
       "      <td>N</td>\n",
       "      <td>95347</td>\n",
       "      <td>1995</td>\n",
       "      <td>Oeste</td>\n",
       "      <td>69692.24</td>\n",
       "      <td>Ano</td>\n",
       "      <td>S</td>\n",
       "      <td>Aprovado</td>\n",
       "    </tr>\n",
       "    <tr>\n",
       "      <th>17832</th>\n",
       "      <td>EZYV13200</td>\n",
       "      <td>Europa</td>\n",
       "      <td>Ensino Médio</td>\n",
       "      <td>N</td>\n",
       "      <td>N</td>\n",
       "      <td>1483</td>\n",
       "      <td>1886</td>\n",
       "      <td>Sul</td>\n",
       "      <td>136237.62</td>\n",
       "      <td>Ano</td>\n",
       "      <td>S</td>\n",
       "      <td>Negado</td>\n",
       "    </tr>\n",
       "    <tr>\n",
       "      <th>17833</th>\n",
       "      <td>EZYV8903</td>\n",
       "      <td>América do Norte</td>\n",
       "      <td>Mestrado</td>\n",
       "      <td>N</td>\n",
       "      <td>N</td>\n",
       "      <td>1504</td>\n",
       "      <td>2010</td>\n",
       "      <td>Nordeste</td>\n",
       "      <td>118187.30</td>\n",
       "      <td>Ano</td>\n",
       "      <td>S</td>\n",
       "      <td>Negado</td>\n",
       "    </tr>\n",
       "    <tr>\n",
       "      <th>17834</th>\n",
       "      <td>EZYV6163</td>\n",
       "      <td>América do Norte</td>\n",
       "      <td>Doutorado</td>\n",
       "      <td>S</td>\n",
       "      <td>N</td>\n",
       "      <td>251967</td>\n",
       "      <td>2010</td>\n",
       "      <td>Meio-Oeste</td>\n",
       "      <td>93133.40</td>\n",
       "      <td>Ano</td>\n",
       "      <td>S</td>\n",
       "      <td>Aprovado</td>\n",
       "    </tr>\n",
       "    <tr>\n",
       "      <th>17835</th>\n",
       "      <td>EZYV4219</td>\n",
       "      <td>Ásia</td>\n",
       "      <td>Ensino Superior</td>\n",
       "      <td>S</td>\n",
       "      <td>N</td>\n",
       "      <td>4116</td>\n",
       "      <td>2008</td>\n",
       "      <td>Oeste</td>\n",
       "      <td>71500.57</td>\n",
       "      <td>Ano</td>\n",
       "      <td>S</td>\n",
       "      <td>Aprovado</td>\n",
       "    </tr>\n",
       "  </tbody>\n",
       "</table>\n",
       "<p>17836 rows × 12 columns</p>\n",
       "</div>"
      ],
      "text/plain": [
       "      id_do_caso        continente educacao_do_empregado  \\\n",
       "0      EZYV10567            Europa          Ensino Médio   \n",
       "1       EZYV5505              Ásia              Mestrado   \n",
       "2       EZYV5207              Ásia          Ensino Médio   \n",
       "3       EZYV7545              Ásia          Ensino Médio   \n",
       "4      EZYV16071              Ásia       Ensino Superior   \n",
       "...          ...               ...                   ...   \n",
       "17831  EZYV17821              Ásia              Mestrado   \n",
       "17832  EZYV13200            Europa          Ensino Médio   \n",
       "17833   EZYV8903  América do Norte              Mestrado   \n",
       "17834   EZYV6163  América do Norte             Doutorado   \n",
       "17835   EZYV4219              Ásia       Ensino Superior   \n",
       "\n",
       "      tem_experiencia_de_trabalho requer_treinamento_de_trabalho  \\\n",
       "0                               N                              S   \n",
       "1                               S                              N   \n",
       "2                               N                              N   \n",
       "3                               N                              N   \n",
       "4                               S                              N   \n",
       "...                           ...                            ...   \n",
       "17831                           S                              N   \n",
       "17832                           N                              N   \n",
       "17833                           N                              N   \n",
       "17834                           S                              N   \n",
       "17835                           S                              N   \n",
       "\n",
       "       num_de_empregados  ano_de_estabelecimento regiao_de_emprego  \\\n",
       "0                   2087                    1855               Sul   \n",
       "1                   5991                    2003        Meio-Oeste   \n",
       "2                   1426                    2000              Ilha   \n",
       "3                   3846                    1992        Meio-Oeste   \n",
       "4                   3957                    1949          Nordeste   \n",
       "...                  ...                     ...               ...   \n",
       "17831              95347                    1995             Oeste   \n",
       "17832               1483                    1886               Sul   \n",
       "17833               1504                    2010          Nordeste   \n",
       "17834             251967                    2010        Meio-Oeste   \n",
       "17835               4116                    2008             Oeste   \n",
       "\n",
       "       salario_prevalecente unidade_de_salario posicao_em_tempo_integral  \\\n",
       "0                  69711.24                Ano                         S   \n",
       "1                  52931.38                Ano                         S   \n",
       "2                 110830.21                Ano                         S   \n",
       "3                  91884.68             Semana                         S   \n",
       "4                 138155.24                Ano                         S   \n",
       "...                     ...                ...                       ...   \n",
       "17831              69692.24                Ano                         S   \n",
       "17832             136237.62                Ano                         S   \n",
       "17833             118187.30                Ano                         S   \n",
       "17834              93133.40                Ano                         S   \n",
       "17835              71500.57                Ano                         S   \n",
       "\n",
       "      status_do_caso  \n",
       "0             Negado  \n",
       "1           Aprovado  \n",
       "2             Negado  \n",
       "3             Negado  \n",
       "4           Aprovado  \n",
       "...              ...  \n",
       "17831       Aprovado  \n",
       "17832         Negado  \n",
       "17833         Negado  \n",
       "17834       Aprovado  \n",
       "17835       Aprovado  \n",
       "\n",
       "[17836 rows x 12 columns]"
      ]
     },
     "execution_count": 35,
     "metadata": {},
     "output_type": "execute_result"
    }
   ],
   "source": [
    "data_train"
   ]
  },
  {
   "cell_type": "code",
   "execution_count": 36,
   "id": "a389800e-b144-4c8a-8609-c5d9139eaad2",
   "metadata": {},
   "outputs": [
    {
     "data": {
      "text/plain": [
       "Index(['id_do_caso', 'continente', 'educacao_do_empregado',\n",
       "       'tem_experiencia_de_trabalho', 'requer_treinamento_de_trabalho',\n",
       "       'num_de_empregados', 'ano_de_estabelecimento', 'regiao_de_emprego',\n",
       "       'salario_prevalecente', 'unidade_de_salario',\n",
       "       'posicao_em_tempo_integral', 'status_do_caso'],\n",
       "      dtype='object')"
      ]
     },
     "execution_count": 36,
     "metadata": {},
     "output_type": "execute_result"
    }
   ],
   "source": [
    "data_train.columns"
   ]
  },
  {
   "cell_type": "code",
   "execution_count": 37,
   "id": "4864d08b-51a4-4ba3-903c-2d89529fa50c",
   "metadata": {},
   "outputs": [],
   "source": [
    "data_train.drop(columns='id_do_caso',inplace=True) # removendo feature que não ajudará no modelo"
   ]
  },
  {
   "cell_type": "markdown",
   "id": "e3bd0c3b-8ad0-4fb5-9f4c-fed928aacc80",
   "metadata": {},
   "source": [
    "## EDA"
   ]
  },
  {
   "cell_type": "code",
   "execution_count": 38,
   "id": "3e7323c0-0952-47f8-892e-028595a46d0a",
   "metadata": {
    "tags": []
   },
   "outputs": [
    {
     "data": {
      "text/html": [
       "<div>\n",
       "<style scoped>\n",
       "    .dataframe tbody tr th:only-of-type {\n",
       "        vertical-align: middle;\n",
       "    }\n",
       "\n",
       "    .dataframe tbody tr th {\n",
       "        vertical-align: top;\n",
       "    }\n",
       "\n",
       "    .dataframe thead th {\n",
       "        text-align: right;\n",
       "    }\n",
       "</style>\n",
       "<table border=\"1\" class=\"dataframe\">\n",
       "  <thead>\n",
       "    <tr style=\"text-align: right;\">\n",
       "      <th></th>\n",
       "      <th>num_de_empregados</th>\n",
       "      <th>ano_de_estabelecimento</th>\n",
       "      <th>salario_prevalecente</th>\n",
       "    </tr>\n",
       "  </thead>\n",
       "  <tbody>\n",
       "    <tr>\n",
       "      <th>count</th>\n",
       "      <td>17836.00000</td>\n",
       "      <td>17836.000000</td>\n",
       "      <td>17836.000000</td>\n",
       "    </tr>\n",
       "    <tr>\n",
       "      <th>mean</th>\n",
       "      <td>5726.50185</td>\n",
       "      <td>1979.494898</td>\n",
       "      <td>74327.428401</td>\n",
       "    </tr>\n",
       "    <tr>\n",
       "      <th>std</th>\n",
       "      <td>23321.37739</td>\n",
       "      <td>42.097194</td>\n",
       "      <td>52795.859573</td>\n",
       "    </tr>\n",
       "    <tr>\n",
       "      <th>min</th>\n",
       "      <td>-26.00000</td>\n",
       "      <td>1800.000000</td>\n",
       "      <td>2.136700</td>\n",
       "    </tr>\n",
       "    <tr>\n",
       "      <th>25%</th>\n",
       "      <td>1023.00000</td>\n",
       "      <td>1976.000000</td>\n",
       "      <td>33892.912500</td>\n",
       "    </tr>\n",
       "    <tr>\n",
       "      <th>50%</th>\n",
       "      <td>2117.00000</td>\n",
       "      <td>1997.000000</td>\n",
       "      <td>70106.920000</td>\n",
       "    </tr>\n",
       "    <tr>\n",
       "      <th>75%</th>\n",
       "      <td>3504.25000</td>\n",
       "      <td>2005.000000</td>\n",
       "      <td>107564.715000</td>\n",
       "    </tr>\n",
       "    <tr>\n",
       "      <th>max</th>\n",
       "      <td>602069.00000</td>\n",
       "      <td>2016.000000</td>\n",
       "      <td>319210.270000</td>\n",
       "    </tr>\n",
       "  </tbody>\n",
       "</table>\n",
       "</div>"
      ],
      "text/plain": [
       "       num_de_empregados  ano_de_estabelecimento  salario_prevalecente\n",
       "count        17836.00000            17836.000000          17836.000000\n",
       "mean          5726.50185             1979.494898          74327.428401\n",
       "std          23321.37739               42.097194          52795.859573\n",
       "min            -26.00000             1800.000000              2.136700\n",
       "25%           1023.00000             1976.000000          33892.912500\n",
       "50%           2117.00000             1997.000000          70106.920000\n",
       "75%           3504.25000             2005.000000         107564.715000\n",
       "max         602069.00000             2016.000000         319210.270000"
      ]
     },
     "execution_count": 38,
     "metadata": {},
     "output_type": "execute_result"
    }
   ],
   "source": [
    "data_train.describe()"
   ]
  },
  {
   "cell_type": "code",
   "execution_count": 39,
   "id": "ac9ac6cb-c409-42e5-ba95-a491aed7755a",
   "metadata": {},
   "outputs": [
    {
     "data": {
      "text/html": [
       "<div>\n",
       "<style scoped>\n",
       "    .dataframe tbody tr th:only-of-type {\n",
       "        vertical-align: middle;\n",
       "    }\n",
       "\n",
       "    .dataframe tbody tr th {\n",
       "        vertical-align: top;\n",
       "    }\n",
       "\n",
       "    .dataframe thead th {\n",
       "        text-align: right;\n",
       "    }\n",
       "</style>\n",
       "<table border=\"1\" class=\"dataframe\">\n",
       "  <thead>\n",
       "    <tr style=\"text-align: right;\">\n",
       "      <th></th>\n",
       "      <th>continente</th>\n",
       "      <th>educacao_do_empregado</th>\n",
       "      <th>tem_experiencia_de_trabalho</th>\n",
       "      <th>requer_treinamento_de_trabalho</th>\n",
       "      <th>regiao_de_emprego</th>\n",
       "      <th>unidade_de_salario</th>\n",
       "      <th>posicao_em_tempo_integral</th>\n",
       "      <th>status_do_caso</th>\n",
       "    </tr>\n",
       "  </thead>\n",
       "  <tbody>\n",
       "    <tr>\n",
       "      <th>count</th>\n",
       "      <td>17836</td>\n",
       "      <td>17836</td>\n",
       "      <td>17836</td>\n",
       "      <td>17836</td>\n",
       "      <td>17836</td>\n",
       "      <td>17836</td>\n",
       "      <td>17836</td>\n",
       "      <td>17836</td>\n",
       "    </tr>\n",
       "    <tr>\n",
       "      <th>unique</th>\n",
       "      <td>6</td>\n",
       "      <td>4</td>\n",
       "      <td>2</td>\n",
       "      <td>2</td>\n",
       "      <td>5</td>\n",
       "      <td>4</td>\n",
       "      <td>2</td>\n",
       "      <td>2</td>\n",
       "    </tr>\n",
       "    <tr>\n",
       "      <th>top</th>\n",
       "      <td>Ásia</td>\n",
       "      <td>Ensino Superior</td>\n",
       "      <td>S</td>\n",
       "      <td>N</td>\n",
       "      <td>Nordeste</td>\n",
       "      <td>Ano</td>\n",
       "      <td>S</td>\n",
       "      <td>Aprovado</td>\n",
       "    </tr>\n",
       "    <tr>\n",
       "      <th>freq</th>\n",
       "      <td>11765</td>\n",
       "      <td>7151</td>\n",
       "      <td>10380</td>\n",
       "      <td>15755</td>\n",
       "      <td>5064</td>\n",
       "      <td>16089</td>\n",
       "      <td>15934</td>\n",
       "      <td>11937</td>\n",
       "    </tr>\n",
       "  </tbody>\n",
       "</table>\n",
       "</div>"
      ],
      "text/plain": [
       "       continente educacao_do_empregado tem_experiencia_de_trabalho  \\\n",
       "count       17836                 17836                       17836   \n",
       "unique          6                     4                           2   \n",
       "top          Ásia       Ensino Superior                           S   \n",
       "freq        11765                  7151                       10380   \n",
       "\n",
       "       requer_treinamento_de_trabalho regiao_de_emprego unidade_de_salario  \\\n",
       "count                           17836             17836              17836   \n",
       "unique                              2                 5                  4   \n",
       "top                                 N          Nordeste                Ano   \n",
       "freq                            15755              5064              16089   \n",
       "\n",
       "       posicao_em_tempo_integral status_do_caso  \n",
       "count                      17836          17836  \n",
       "unique                         2              2  \n",
       "top                            S       Aprovado  \n",
       "freq                       15934          11937  "
      ]
     },
     "execution_count": 39,
     "metadata": {},
     "output_type": "execute_result"
    }
   ],
   "source": [
    "data_train.describe(exclude = np.number)"
   ]
  },
  {
   "cell_type": "code",
   "execution_count": 40,
   "id": "177f7d38-4763-4ea2-b760-a61a20ced03a",
   "metadata": {},
   "outputs": [
    {
     "name": "stdout",
     "output_type": "stream",
     "text": [
      "<class 'pandas.core.frame.DataFrame'>\n",
      "RangeIndex: 17836 entries, 0 to 17835\n",
      "Data columns (total 11 columns):\n",
      " #   Column                          Non-Null Count  Dtype  \n",
      "---  ------                          --------------  -----  \n",
      " 0   continente                      17836 non-null  object \n",
      " 1   educacao_do_empregado           17836 non-null  object \n",
      " 2   tem_experiencia_de_trabalho     17836 non-null  object \n",
      " 3   requer_treinamento_de_trabalho  17836 non-null  object \n",
      " 4   num_de_empregados               17836 non-null  int64  \n",
      " 5   ano_de_estabelecimento          17836 non-null  int64  \n",
      " 6   regiao_de_emprego               17836 non-null  object \n",
      " 7   salario_prevalecente            17836 non-null  float64\n",
      " 8   unidade_de_salario              17836 non-null  object \n",
      " 9   posicao_em_tempo_integral       17836 non-null  object \n",
      " 10  status_do_caso                  17836 non-null  object \n",
      "dtypes: float64(1), int64(2), object(8)\n",
      "memory usage: 1.5+ MB\n"
     ]
    }
   ],
   "source": [
    "data_train.info()"
   ]
  },
  {
   "cell_type": "code",
   "execution_count": 41,
   "id": "eaa28b10-510c-4b59-af72-25c0bc54deaa",
   "metadata": {},
   "outputs": [
    {
     "data": {
      "text/plain": [
       "continente                        0\n",
       "educacao_do_empregado             0\n",
       "tem_experiencia_de_trabalho       0\n",
       "requer_treinamento_de_trabalho    0\n",
       "num_de_empregados                 0\n",
       "ano_de_estabelecimento            0\n",
       "regiao_de_emprego                 0\n",
       "salario_prevalecente              0\n",
       "unidade_de_salario                0\n",
       "posicao_em_tempo_integral         0\n",
       "status_do_caso                    0\n",
       "dtype: int64"
      ]
     },
     "execution_count": 41,
     "metadata": {},
     "output_type": "execute_result"
    }
   ],
   "source": [
    "data_train.isna().sum()"
   ]
  },
  {
   "cell_type": "code",
   "execution_count": 42,
   "id": "dee5ccce-7b5e-4a91-98a7-ab0823837c3e",
   "metadata": {},
   "outputs": [],
   "source": [
    "### Não possuimos valores ausentes"
   ]
  },
  {
   "cell_type": "code",
   "execution_count": 43,
   "id": "e5316d25-6a32-4b05-8174-0b8227d4d2b4",
   "metadata": {},
   "outputs": [
    {
     "data": {
      "image/png": "[encoded data removed]",
      "text/plain": [
       "<Figure size 640x480 with 1 Axes>"
      ]
     },
     "metadata": {},
     "output_type": "display_data"
    }
   ],
   "source": [
    "sns.heatmap(data_train.isnull(),cbar = False)\n",
    "plt.show()"
   ]
  },
  {
   "cell_type": "code",
   "execution_count": 44,
   "id": "a27685ba-f787-4baf-824a-178e90f7d61b",
   "metadata": {},
   "outputs": [
    {
     "data": {
      "image/png": "[encoded data removed]",
      "text/plain": [
       "<Figure size 1000x600 with 1 Axes>"
      ]
     },
     "metadata": {},
     "output_type": "display_data"
    }
   ],
   "source": [
    "plotbar(data_train,'continente',horizontal=True)"
   ]
  },
  {
   "cell_type": "code",
   "execution_count": 45,
   "id": "95203336-05f4-4c4a-bf06-0737a3740d8d",
   "metadata": {},
   "outputs": [
    {
     "data": {
      "image/png": "[encoded data removed]",
      "text/plain": [
       "<Figure size 1000x600 with 1 Axes>"
      ]
     },
     "metadata": {},
     "output_type": "display_data"
    }
   ],
   "source": [
    "plotbar(data_train,'educacao_do_empregado',horizontal=True)"
   ]
  },
  {
   "cell_type": "code",
   "execution_count": 46,
   "id": "9aa3d8d7-674b-41c5-9add-829abe84978e",
   "metadata": {},
   "outputs": [
    {
     "data": {
      "image/png": "[encoded data removed]",
      "text/plain": [
       "<Figure size 1000x600 with 1 Axes>"
      ]
     },
     "metadata": {},
     "output_type": "display_data"
    }
   ],
   "source": [
    "plotbar(data_train,'requer_treinamento_de_trabalho')"
   ]
  },
  {
   "cell_type": "markdown",
   "id": "667ba4ac-d57e-4728-9882-925ebd7a7a1f",
   "metadata": {},
   "source": [
    "## Prepro"
   ]
  },
  {
   "cell_type": "code",
   "execution_count": 94,
   "id": "64cce030",
   "metadata": {},
   "outputs": [],
   "source": [
    "df = data_train"
   ]
  },
  {
   "cell_type": "code",
   "execution_count": 97,
   "id": "a812effc",
   "metadata": {},
   "outputs": [],
   "source": [
    "X = data_train.drop(columns='status_do_caso')\n",
    "y = data_train['status_do_caso']"
   ]
  },
  {
   "cell_type": "code",
   "execution_count": 107,
   "id": "cc6ca2d6",
   "metadata": {},
   "outputs": [
    {
     "data": {
      "text/plain": [
       "'Negado'"
      ]
     },
     "execution_count": 107,
     "metadata": {},
     "output_type": "execute_result"
    }
   ],
   "source": [
    "y[0]"
   ]
  },
  {
   "cell_type": "code",
   "execution_count": 120,
   "id": "2333a7e9",
   "metadata": {},
   "outputs": [],
   "source": [
    "# mapeando\n",
    "y = y.apply(lambda x: 1 if x == \"Aprovado\" else 0 if x == \"Negado\" else None)\n"
   ]
  },
  {
   "cell_type": "code",
   "execution_count": 1,
   "id": "fde9b2b6",
   "metadata": {},
   "outputs": [
    {
     "ename": "NameError",
     "evalue": "name 'Pipeline' is not defined",
     "output_type": "error",
     "traceback": [
      "\u001b[0;31m---------------------------------------------------------------------------\u001b[0m",
      "\u001b[0;31mNameError\u001b[0m                                 Traceback (most recent call last)",
      "Cell \u001b[0;32mIn[1], line 1\u001b[0m\n\u001b[0;32m----> 1\u001b[0m pipe_categorical \u001b[38;5;241m=\u001b[39m \u001b[43mPipeline\u001b[49m([\n\u001b[1;32m      2\u001b[0m     \n\u001b[1;32m      3\u001b[0m     (\u001b[38;5;124m'\u001b[39m\u001b[38;5;124mimputer\u001b[39m\u001b[38;5;124m'\u001b[39m,SimpleImputer(strategy\u001b[38;5;241m=\u001b[39m\u001b[38;5;124m'\u001b[39m\u001b[38;5;124mconstant\u001b[39m\u001b[38;5;124m'\u001b[39m,fill_value\u001b[38;5;241m=\u001b[39m\u001b[38;5;124m'\u001b[39m\u001b[38;5;124mmissing\u001b[39m\u001b[38;5;124m'\u001b[39m)),\n\u001b[1;32m      4\u001b[0m     (\u001b[38;5;124m'\u001b[39m\u001b[38;5;124menconder\u001b[39m\u001b[38;5;124m'\u001b[39m,OneHotEncoder(handle_unknown\u001b[38;5;241m=\u001b[39m\u001b[38;5;124m'\u001b[39m\u001b[38;5;124mignore\u001b[39m\u001b[38;5;124m'\u001b[39m,sparse\u001b[38;5;241m=\u001b[39m\u001b[38;5;28;01mFalse\u001b[39;00m))\n\u001b[1;32m      5\u001b[0m     \n\u001b[1;32m      6\u001b[0m ])\n\u001b[1;32m      7\u001b[0m pipe_numerical \u001b[38;5;241m=\u001b[39m Pipeline([\n\u001b[1;32m      8\u001b[0m     (\u001b[38;5;124m'\u001b[39m\u001b[38;5;124mimputer\u001b[39m\u001b[38;5;124m'\u001b[39m,SimpleImputer(strategy\u001b[38;5;241m=\u001b[39m\u001b[38;5;124m'\u001b[39m\u001b[38;5;124mmedian\u001b[39m\u001b[38;5;124m'\u001b[39m)),\n\u001b[1;32m      9\u001b[0m     (\u001b[38;5;124m'\u001b[39m\u001b[38;5;124mscaler\u001b[39m\u001b[38;5;124m'\u001b[39m, StandardScaler())\n\u001b[1;32m     10\u001b[0m ])\n\u001b[1;32m     13\u001b[0m preprocessor \u001b[38;5;241m=\u001b[39m ColumnTransformer([\n\u001b[1;32m     14\u001b[0m         (\u001b[38;5;124m\"\u001b[39m\u001b[38;5;124mnum\u001b[39m\u001b[38;5;124m\"\u001b[39m, pipe_numerical, numeric_features),\n\u001b[1;32m     15\u001b[0m         (\u001b[38;5;124m\"\u001b[39m\u001b[38;5;124mcat\u001b[39m\u001b[38;5;124m\"\u001b[39m, pipe_categorical, category_features),\n\u001b[1;32m     16\u001b[0m ]\n\u001b[1;32m     17\u001b[0m )\n",
      "\u001b[0;31mNameError\u001b[0m: name 'Pipeline' is not defined"
     ]
    }
   ],
   "source": [
    "pipe_categorical = Pipeline([\n",
    "    \n",
    "    ('imputer',SimpleImputer(strategy='constant',fill_value='missing')),\n",
    "    ('enconder',OneHotEncoder(handle_unknown='ignore',sparse=False))\n",
    "    \n",
    "])\n",
    "pipe_numerical = Pipeline([\n",
    "    ('imputer',SimpleImputer(strategy='median')),\n",
    "    ('scaler', StandardScaler())\n",
    "])\n",
    "\n",
    "\n",
    "preprocessor = ColumnTransformer([\n",
    "        (\"num\", pipe_numerical, numeric_features),\n",
    "        (\"cat\", pipe_categorical, category_features),\n",
    "]\n",
    ")\n",
    "preprocessor"
   ]
  },
  {
   "cell_type": "code",
   "execution_count": 124,
   "id": "0d623968",
   "metadata": {},
   "outputs": [
    {
     "data": {
      "text/html": [
       "<style>#sk-container-id-13 {color: black;background-color: white;}#sk-container-id-13 pre{padding: 0;}#sk-container-id-13 div.sk-toggleable {background-color: white;}#sk-container-id-13 label.sk-toggleable__label {cursor: pointer;display: block;width: 100%;margin-bottom: 0;padding: 0.3em;box-sizing: border-box;text-align: center;}#sk-container-id-13 label.sk-toggleable__label-arrow:before {content: \"▸\";float: left;margin-right: 0.25em;color: #696969;}#sk-container-id-13 label.sk-toggleable__label-arrow:hover:before {color: black;}#sk-container-id-13 div.sk-estimator:hover label.sk-toggleable__label-arrow:before {color: black;}#sk-container-id-13 div.sk-toggleable__content {max-height: 0;max-width: 0;overflow: hidden;text-align: left;background-color: #f0f8ff;}#sk-container-id-13 div.sk-toggleable__content pre {margin: 0.2em;color: black;border-radius: 0.25em;background-color: #f0f8ff;}#sk-container-id-13 input.sk-toggleable__control:checked~div.sk-toggleable__content {max-height: 200px;max-width: 100%;overflow: auto;}#sk-container-id-13 input.sk-toggleable__control:checked~label.sk-toggleable__label-arrow:before {content: \"▾\";}#sk-container-id-13 div.sk-estimator input.sk-toggleable__control:checked~label.sk-toggleable__label {background-color: #d4ebff;}#sk-container-id-13 div.sk-label input.sk-toggleable__control:checked~label.sk-toggleable__label {background-color: #d4ebff;}#sk-container-id-13 input.sk-hidden--visually {border: 0;clip: rect(1px 1px 1px 1px);clip: rect(1px, 1px, 1px, 1px);height: 1px;margin: -1px;overflow: hidden;padding: 0;position: absolute;width: 1px;}#sk-container-id-13 div.sk-estimator {font-family: monospace;background-color: #f0f8ff;border: 1px dotted black;border-radius: 0.25em;box-sizing: border-box;margin-bottom: 0.5em;}#sk-container-id-13 div.sk-estimator:hover {background-color: #d4ebff;}#sk-container-id-13 div.sk-parallel-item::after {content: \"\";width: 100%;border-bottom: 1px solid gray;flex-grow: 1;}#sk-container-id-13 div.sk-label:hover label.sk-toggleable__label {background-color: #d4ebff;}#sk-container-id-13 div.sk-serial::before {content: \"\";position: absolute;border-left: 1px solid gray;box-sizing: border-box;top: 0;bottom: 0;left: 50%;z-index: 0;}#sk-container-id-13 div.sk-serial {display: flex;flex-direction: column;align-items: center;background-color: white;padding-right: 0.2em;padding-left: 0.2em;position: relative;}#sk-container-id-13 div.sk-item {position: relative;z-index: 1;}#sk-container-id-13 div.sk-parallel {display: flex;align-items: stretch;justify-content: center;background-color: white;position: relative;}#sk-container-id-13 div.sk-item::before, #sk-container-id-13 div.sk-parallel-item::before {content: \"\";position: absolute;border-left: 1px solid gray;box-sizing: border-box;top: 0;bottom: 0;left: 50%;z-index: -1;}#sk-container-id-13 div.sk-parallel-item {display: flex;flex-direction: column;z-index: 1;position: relative;background-color: white;}#sk-container-id-13 div.sk-parallel-item:first-child::after {align-self: flex-end;width: 50%;}#sk-container-id-13 div.sk-parallel-item:last-child::after {align-self: flex-start;width: 50%;}#sk-container-id-13 div.sk-parallel-item:only-child::after {width: 0;}#sk-container-id-13 div.sk-dashed-wrapped {border: 1px dashed gray;margin: 0 0.4em 0.5em 0.4em;box-sizing: border-box;padding-bottom: 0.4em;background-color: white;}#sk-container-id-13 div.sk-label label {font-family: monospace;font-weight: bold;display: inline-block;line-height: 1.2em;}#sk-container-id-13 div.sk-label-container {text-align: center;}#sk-container-id-13 div.sk-container {/* jupyter's `normalize.less` sets `[hidden] { display: none; }` but bootstrap.min.css set `[hidden] { display: none !important; }` so we also need the `!important` here to be able to override the default hidden behavior on the sphinx rendered scikit-learn.org. See: https://github.com/scikit-learn/scikit-learn/issues/21755 */display: inline-block !important;position: relative;}#sk-container-id-13 div.sk-text-repr-fallback {display: none;}</style><div id=\"sk-container-id-13\" class=\"sk-top-container\"><div class=\"sk-text-repr-fallback\"><pre>Pipeline(steps=[(&#x27;preprocessor&#x27;,\n",
       "                 ColumnTransformer(transformers=[(&#x27;num&#x27;,\n",
       "                                                  Pipeline(steps=[(&#x27;imputer&#x27;,\n",
       "                                                                   SimpleImputer(strategy=&#x27;median&#x27;)),\n",
       "                                                                  (&#x27;scaler&#x27;,\n",
       "                                                                   StandardScaler())]),\n",
       "                                                  [&#x27;num_de_empregados&#x27;,\n",
       "                                                   &#x27;ano_de_estabelecimento&#x27;,\n",
       "                                                   &#x27;salario_prevalecente&#x27;]),\n",
       "                                                 (&#x27;cat&#x27;,\n",
       "                                                  Pipeline(steps=[(&#x27;imputer&#x27;,\n",
       "                                                                   SimpleImputer(fill_value=&#x27;missing&#x27;,\n",
       "                                                                                 strategy=&#x27;constant&#x27;)),\n",
       "                                                                  (&#x27;enconder&#x27;,\n",
       "                                                                   OneHotEncoder(handle_unknown=&#x27;ignore&#x27;,\n",
       "                                                                                 sparse=False))]),\n",
       "                                                  [&#x27;continente&#x27;,\n",
       "                                                   &#x27;educacao_do_empregado&#x27;,\n",
       "                                                   &#x27;tem_experiencia_de_trabalho&#x27;,\n",
       "                                                   &#x27;requer_treinamento_de_trabalho&#x27;,\n",
       "                                                   &#x27;regiao_de_emprego&#x27;,\n",
       "                                                   &#x27;unidade_de_salario&#x27;,\n",
       "                                                   &#x27;posicao_em_tempo_integral&#x27;])])),\n",
       "                (&#x27;model&#x27;, LogisticRegression())])</pre><b>In a Jupyter environment, please rerun this cell to show the HTML representation or trust the notebook. <br />On GitHub, the HTML representation is unable to render, please try loading this page with nbviewer.org.</b></div><div class=\"sk-container\" hidden><div class=\"sk-item sk-dashed-wrapped\"><div class=\"sk-label-container\"><div class=\"sk-label sk-toggleable\"><input class=\"sk-toggleable__control sk-hidden--visually\" id=\"sk-estimator-id-96\" type=\"checkbox\" ><label for=\"sk-estimator-id-96\" class=\"sk-toggleable__label sk-toggleable__label-arrow\">Pipeline</label><div class=\"sk-toggleable__content\"><pre>Pipeline(steps=[(&#x27;preprocessor&#x27;,\n",
       "                 ColumnTransformer(transformers=[(&#x27;num&#x27;,\n",
       "                                                  Pipeline(steps=[(&#x27;imputer&#x27;,\n",
       "                                                                   SimpleImputer(strategy=&#x27;median&#x27;)),\n",
       "                                                                  (&#x27;scaler&#x27;,\n",
       "                                                                   StandardScaler())]),\n",
       "                                                  [&#x27;num_de_empregados&#x27;,\n",
       "                                                   &#x27;ano_de_estabelecimento&#x27;,\n",
       "                                                   &#x27;salario_prevalecente&#x27;]),\n",
       "                                                 (&#x27;cat&#x27;,\n",
       "                                                  Pipeline(steps=[(&#x27;imputer&#x27;,\n",
       "                                                                   SimpleImputer(fill_value=&#x27;missing&#x27;,\n",
       "                                                                                 strategy=&#x27;constant&#x27;)),\n",
       "                                                                  (&#x27;enconder&#x27;,\n",
       "                                                                   OneHotEncoder(handle_unknown=&#x27;ignore&#x27;,\n",
       "                                                                                 sparse=False))]),\n",
       "                                                  [&#x27;continente&#x27;,\n",
       "                                                   &#x27;educacao_do_empregado&#x27;,\n",
       "                                                   &#x27;tem_experiencia_de_trabalho&#x27;,\n",
       "                                                   &#x27;requer_treinamento_de_trabalho&#x27;,\n",
       "                                                   &#x27;regiao_de_emprego&#x27;,\n",
       "                                                   &#x27;unidade_de_salario&#x27;,\n",
       "                                                   &#x27;posicao_em_tempo_integral&#x27;])])),\n",
       "                (&#x27;model&#x27;, LogisticRegression())])</pre></div></div></div><div class=\"sk-serial\"><div class=\"sk-item sk-dashed-wrapped\"><div class=\"sk-label-container\"><div class=\"sk-label sk-toggleable\"><input class=\"sk-toggleable__control sk-hidden--visually\" id=\"sk-estimator-id-97\" type=\"checkbox\" ><label for=\"sk-estimator-id-97\" class=\"sk-toggleable__label sk-toggleable__label-arrow\">preprocessor: ColumnTransformer</label><div class=\"sk-toggleable__content\"><pre>ColumnTransformer(transformers=[(&#x27;num&#x27;,\n",
       "                                 Pipeline(steps=[(&#x27;imputer&#x27;,\n",
       "                                                  SimpleImputer(strategy=&#x27;median&#x27;)),\n",
       "                                                 (&#x27;scaler&#x27;, StandardScaler())]),\n",
       "                                 [&#x27;num_de_empregados&#x27;, &#x27;ano_de_estabelecimento&#x27;,\n",
       "                                  &#x27;salario_prevalecente&#x27;]),\n",
       "                                (&#x27;cat&#x27;,\n",
       "                                 Pipeline(steps=[(&#x27;imputer&#x27;,\n",
       "                                                  SimpleImputer(fill_value=&#x27;missing&#x27;,\n",
       "                                                                strategy=&#x27;constant&#x27;)),\n",
       "                                                 (&#x27;enconder&#x27;,\n",
       "                                                  OneHotEncoder(handle_unknown=&#x27;ignore&#x27;,\n",
       "                                                                sparse=False))]),\n",
       "                                 [&#x27;continente&#x27;, &#x27;educacao_do_empregado&#x27;,\n",
       "                                  &#x27;tem_experiencia_de_trabalho&#x27;,\n",
       "                                  &#x27;requer_treinamento_de_trabalho&#x27;,\n",
       "                                  &#x27;regiao_de_emprego&#x27;, &#x27;unidade_de_salario&#x27;,\n",
       "                                  &#x27;posicao_em_tempo_integral&#x27;])])</pre></div></div></div><div class=\"sk-parallel\"><div class=\"sk-parallel-item\"><div class=\"sk-item\"><div class=\"sk-label-container\"><div class=\"sk-label sk-toggleable\"><input class=\"sk-toggleable__control sk-hidden--visually\" id=\"sk-estimator-id-98\" type=\"checkbox\" ><label for=\"sk-estimator-id-98\" class=\"sk-toggleable__label sk-toggleable__label-arrow\">num</label><div class=\"sk-toggleable__content\"><pre>[&#x27;num_de_empregados&#x27;, &#x27;ano_de_estabelecimento&#x27;, &#x27;salario_prevalecente&#x27;]</pre></div></div></div><div class=\"sk-serial\"><div class=\"sk-item\"><div class=\"sk-serial\"><div class=\"sk-item\"><div class=\"sk-estimator sk-toggleable\"><input class=\"sk-toggleable__control sk-hidden--visually\" id=\"sk-estimator-id-99\" type=\"checkbox\" ><label for=\"sk-estimator-id-99\" class=\"sk-toggleable__label sk-toggleable__label-arrow\">SimpleImputer</label><div class=\"sk-toggleable__content\"><pre>SimpleImputer(strategy=&#x27;median&#x27;)</pre></div></div></div><div class=\"sk-item\"><div class=\"sk-estimator sk-toggleable\"><input class=\"sk-toggleable__control sk-hidden--visually\" id=\"sk-estimator-id-100\" type=\"checkbox\" ><label for=\"sk-estimator-id-100\" class=\"sk-toggleable__label sk-toggleable__label-arrow\">StandardScaler</label><div class=\"sk-toggleable__content\"><pre>StandardScaler()</pre></div></div></div></div></div></div></div></div><div class=\"sk-parallel-item\"><div class=\"sk-item\"><div class=\"sk-label-container\"><div class=\"sk-label sk-toggleable\"><input class=\"sk-toggleable__control sk-hidden--visually\" id=\"sk-estimator-id-101\" type=\"checkbox\" ><label for=\"sk-estimator-id-101\" class=\"sk-toggleable__label sk-toggleable__label-arrow\">cat</label><div class=\"sk-toggleable__content\"><pre>[&#x27;continente&#x27;, &#x27;educacao_do_empregado&#x27;, &#x27;tem_experiencia_de_trabalho&#x27;, &#x27;requer_treinamento_de_trabalho&#x27;, &#x27;regiao_de_emprego&#x27;, &#x27;unidade_de_salario&#x27;, &#x27;posicao_em_tempo_integral&#x27;]</pre></div></div></div><div class=\"sk-serial\"><div class=\"sk-item\"><div class=\"sk-serial\"><div class=\"sk-item\"><div class=\"sk-estimator sk-toggleable\"><input class=\"sk-toggleable__control sk-hidden--visually\" id=\"sk-estimator-id-102\" type=\"checkbox\" ><label for=\"sk-estimator-id-102\" class=\"sk-toggleable__label sk-toggleable__label-arrow\">SimpleImputer</label><div class=\"sk-toggleable__content\"><pre>SimpleImputer(fill_value=&#x27;missing&#x27;, strategy=&#x27;constant&#x27;)</pre></div></div></div><div class=\"sk-item\"><div class=\"sk-estimator sk-toggleable\"><input class=\"sk-toggleable__control sk-hidden--visually\" id=\"sk-estimator-id-103\" type=\"checkbox\" ><label for=\"sk-estimator-id-103\" class=\"sk-toggleable__label sk-toggleable__label-arrow\">OneHotEncoder</label><div class=\"sk-toggleable__content\"><pre>OneHotEncoder(handle_unknown=&#x27;ignore&#x27;, sparse=False)</pre></div></div></div></div></div></div></div></div></div></div><div class=\"sk-item\"><div class=\"sk-estimator sk-toggleable\"><input class=\"sk-toggleable__control sk-hidden--visually\" id=\"sk-estimator-id-104\" type=\"checkbox\" ><label for=\"sk-estimator-id-104\" class=\"sk-toggleable__label sk-toggleable__label-arrow\">LogisticRegression</label><div class=\"sk-toggleable__content\"><pre>LogisticRegression()</pre></div></div></div></div></div></div></div>"
      ],
      "text/plain": [
       "Pipeline(steps=[('preprocessor',\n",
       "                 ColumnTransformer(transformers=[('num',\n",
       "                                                  Pipeline(steps=[('imputer',\n",
       "                                                                   SimpleImputer(strategy='median')),\n",
       "                                                                  ('scaler',\n",
       "                                                                   StandardScaler())]),\n",
       "                                                  ['num_de_empregados',\n",
       "                                                   'ano_de_estabelecimento',\n",
       "                                                   'salario_prevalecente']),\n",
       "                                                 ('cat',\n",
       "                                                  Pipeline(steps=[('imputer',\n",
       "                                                                   SimpleImputer(fill_value='missing',\n",
       "                                                                                 strategy='constant')),\n",
       "                                                                  ('enconder',\n",
       "                                                                   OneHotEncoder(handle_unknown='ignore',\n",
       "                                                                                 sparse=False))]),\n",
       "                                                  ['continente',\n",
       "                                                   'educacao_do_empregado',\n",
       "                                                   'tem_experiencia_de_trabalho',\n",
       "                                                   'requer_treinamento_de_trabalho',\n",
       "                                                   'regiao_de_emprego',\n",
       "                                                   'unidade_de_salario',\n",
       "                                                   'posicao_em_tempo_integral'])])),\n",
       "                ('model', LogisticRegression())])"
      ]
     },
     "execution_count": 124,
     "metadata": {},
     "output_type": "execute_result"
    }
   ],
   "source": [
    "clf = Pipeline([\n",
    "    (\"preprocessor\", preprocessor),\n",
    "    (\"model\", LogisticRegression())\n",
    "])\n",
    "clf"
   ]
  },
  {
   "cell_type": "code",
   "execution_count": 130,
   "id": "feae2aff",
   "metadata": {},
   "outputs": [
    {
     "name": "stderr",
     "output_type": "stream",
     "text": [
      "C:\\Users\\Reyso\\anaconda3\\lib\\site-packages\\sklearn\\preprocessing\\_encoders.py:828: FutureWarning: `sparse` was renamed to `sparse_output` in version 1.2 and will be removed in 1.4. `sparse_output` is ignored unless you leave `sparse` to its default value.\n",
      "  warnings.warn(\n",
      "C:\\Users\\Reyso\\anaconda3\\lib\\site-packages\\sklearn\\preprocessing\\_encoders.py:828: FutureWarning: `sparse` was renamed to `sparse_output` in version 1.2 and will be removed in 1.4. `sparse_output` is ignored unless you leave `sparse` to its default value.\n",
      "  warnings.warn(\n"
     ]
    },
    {
     "data": {
      "text/html": [
       "<style>#sk-container-id-14 {color: black;background-color: white;}#sk-container-id-14 pre{padding: 0;}#sk-container-id-14 div.sk-toggleable {background-color: white;}#sk-container-id-14 label.sk-toggleable__label {cursor: pointer;display: block;width: 100%;margin-bottom: 0;padding: 0.3em;box-sizing: border-box;text-align: center;}#sk-container-id-14 label.sk-toggleable__label-arrow:before {content: \"▸\";float: left;margin-right: 0.25em;color: #696969;}#sk-container-id-14 label.sk-toggleable__label-arrow:hover:before {color: black;}#sk-container-id-14 div.sk-estimator:hover label.sk-toggleable__label-arrow:before {color: black;}#sk-container-id-14 div.sk-toggleable__content {max-height: 0;max-width: 0;overflow: hidden;text-align: left;background-color: #f0f8ff;}#sk-container-id-14 div.sk-toggleable__content pre {margin: 0.2em;color: black;border-radius: 0.25em;background-color: #f0f8ff;}#sk-container-id-14 input.sk-toggleable__control:checked~div.sk-toggleable__content {max-height: 200px;max-width: 100%;overflow: auto;}#sk-container-id-14 input.sk-toggleable__control:checked~label.sk-toggleable__label-arrow:before {content: \"▾\";}#sk-container-id-14 div.sk-estimator input.sk-toggleable__control:checked~label.sk-toggleable__label {background-color: #d4ebff;}#sk-container-id-14 div.sk-label input.sk-toggleable__control:checked~label.sk-toggleable__label {background-color: #d4ebff;}#sk-container-id-14 input.sk-hidden--visually {border: 0;clip: rect(1px 1px 1px 1px);clip: rect(1px, 1px, 1px, 1px);height: 1px;margin: -1px;overflow: hidden;padding: 0;position: absolute;width: 1px;}#sk-container-id-14 div.sk-estimator {font-family: monospace;background-color: #f0f8ff;border: 1px dotted black;border-radius: 0.25em;box-sizing: border-box;margin-bottom: 0.5em;}#sk-container-id-14 div.sk-estimator:hover {background-color: #d4ebff;}#sk-container-id-14 div.sk-parallel-item::after {content: \"\";width: 100%;border-bottom: 1px solid gray;flex-grow: 1;}#sk-container-id-14 div.sk-label:hover label.sk-toggleable__label {background-color: #d4ebff;}#sk-container-id-14 div.sk-serial::before {content: \"\";position: absolute;border-left: 1px solid gray;box-sizing: border-box;top: 0;bottom: 0;left: 50%;z-index: 0;}#sk-container-id-14 div.sk-serial {display: flex;flex-direction: column;align-items: center;background-color: white;padding-right: 0.2em;padding-left: 0.2em;position: relative;}#sk-container-id-14 div.sk-item {position: relative;z-index: 1;}#sk-container-id-14 div.sk-parallel {display: flex;align-items: stretch;justify-content: center;background-color: white;position: relative;}#sk-container-id-14 div.sk-item::before, #sk-container-id-14 div.sk-parallel-item::before {content: \"\";position: absolute;border-left: 1px solid gray;box-sizing: border-box;top: 0;bottom: 0;left: 50%;z-index: -1;}#sk-container-id-14 div.sk-parallel-item {display: flex;flex-direction: column;z-index: 1;position: relative;background-color: white;}#sk-container-id-14 div.sk-parallel-item:first-child::after {align-self: flex-end;width: 50%;}#sk-container-id-14 div.sk-parallel-item:last-child::after {align-self: flex-start;width: 50%;}#sk-container-id-14 div.sk-parallel-item:only-child::after {width: 0;}#sk-container-id-14 div.sk-dashed-wrapped {border: 1px dashed gray;margin: 0 0.4em 0.5em 0.4em;box-sizing: border-box;padding-bottom: 0.4em;background-color: white;}#sk-container-id-14 div.sk-label label {font-family: monospace;font-weight: bold;display: inline-block;line-height: 1.2em;}#sk-container-id-14 div.sk-label-container {text-align: center;}#sk-container-id-14 div.sk-container {/* jupyter's `normalize.less` sets `[hidden] { display: none; }` but bootstrap.min.css set `[hidden] { display: none !important; }` so we also need the `!important` here to be able to override the default hidden behavior on the sphinx rendered scikit-learn.org. See: https://github.com/scikit-learn/scikit-learn/issues/21755 */display: inline-block !important;position: relative;}#sk-container-id-14 div.sk-text-repr-fallback {display: none;}</style><div id=\"sk-container-id-14\" class=\"sk-top-container\"><div class=\"sk-text-repr-fallback\"><pre>Pipeline(steps=[(&#x27;preprocessor&#x27;,\n",
       "                 ColumnTransformer(transformers=[(&#x27;num&#x27;,\n",
       "                                                  Pipeline(steps=[(&#x27;imputer&#x27;,\n",
       "                                                                   SimpleImputer(strategy=&#x27;median&#x27;)),\n",
       "                                                                  (&#x27;scaler&#x27;,\n",
       "                                                                   StandardScaler())]),\n",
       "                                                  [&#x27;num_de_empregados&#x27;,\n",
       "                                                   &#x27;ano_de_estabelecimento&#x27;,\n",
       "                                                   &#x27;salario_prevalecente&#x27;]),\n",
       "                                                 (&#x27;cat&#x27;,\n",
       "                                                  Pipeline(steps=[(&#x27;imputer&#x27;,\n",
       "                                                                   SimpleImputer(fill_value=&#x27;missing&#x27;,\n",
       "                                                                                 strategy=&#x27;constant&#x27;)),\n",
       "                                                                  (&#x27;enconder&#x27;,\n",
       "                                                                   OneHotEncoder(handle_unknown=&#x27;ignore&#x27;,\n",
       "                                                                                 sparse=False))]),\n",
       "                                                  [&#x27;continente&#x27;,\n",
       "                                                   &#x27;educacao_do_empregado&#x27;,\n",
       "                                                   &#x27;tem_experiencia_de_trabalho&#x27;,\n",
       "                                                   &#x27;requer_treinamento_de_trabalho&#x27;,\n",
       "                                                   &#x27;regiao_de_emprego&#x27;,\n",
       "                                                   &#x27;unidade_de_salario&#x27;,\n",
       "                                                   &#x27;posicao_em_tempo_integral&#x27;])])),\n",
       "                (&#x27;model&#x27;, LogisticRegression())])</pre><b>In a Jupyter environment, please rerun this cell to show the HTML representation or trust the notebook. <br />On GitHub, the HTML representation is unable to render, please try loading this page with nbviewer.org.</b></div><div class=\"sk-container\" hidden><div class=\"sk-item sk-dashed-wrapped\"><div class=\"sk-label-container\"><div class=\"sk-label sk-toggleable\"><input class=\"sk-toggleable__control sk-hidden--visually\" id=\"sk-estimator-id-105\" type=\"checkbox\" ><label for=\"sk-estimator-id-105\" class=\"sk-toggleable__label sk-toggleable__label-arrow\">Pipeline</label><div class=\"sk-toggleable__content\"><pre>Pipeline(steps=[(&#x27;preprocessor&#x27;,\n",
       "                 ColumnTransformer(transformers=[(&#x27;num&#x27;,\n",
       "                                                  Pipeline(steps=[(&#x27;imputer&#x27;,\n",
       "                                                                   SimpleImputer(strategy=&#x27;median&#x27;)),\n",
       "                                                                  (&#x27;scaler&#x27;,\n",
       "                                                                   StandardScaler())]),\n",
       "                                                  [&#x27;num_de_empregados&#x27;,\n",
       "                                                   &#x27;ano_de_estabelecimento&#x27;,\n",
       "                                                   &#x27;salario_prevalecente&#x27;]),\n",
       "                                                 (&#x27;cat&#x27;,\n",
       "                                                  Pipeline(steps=[(&#x27;imputer&#x27;,\n",
       "                                                                   SimpleImputer(fill_value=&#x27;missing&#x27;,\n",
       "                                                                                 strategy=&#x27;constant&#x27;)),\n",
       "                                                                  (&#x27;enconder&#x27;,\n",
       "                                                                   OneHotEncoder(handle_unknown=&#x27;ignore&#x27;,\n",
       "                                                                                 sparse=False))]),\n",
       "                                                  [&#x27;continente&#x27;,\n",
       "                                                   &#x27;educacao_do_empregado&#x27;,\n",
       "                                                   &#x27;tem_experiencia_de_trabalho&#x27;,\n",
       "                                                   &#x27;requer_treinamento_de_trabalho&#x27;,\n",
       "                                                   &#x27;regiao_de_emprego&#x27;,\n",
       "                                                   &#x27;unidade_de_salario&#x27;,\n",
       "                                                   &#x27;posicao_em_tempo_integral&#x27;])])),\n",
       "                (&#x27;model&#x27;, LogisticRegression())])</pre></div></div></div><div class=\"sk-serial\"><div class=\"sk-item sk-dashed-wrapped\"><div class=\"sk-label-container\"><div class=\"sk-label sk-toggleable\"><input class=\"sk-toggleable__control sk-hidden--visually\" id=\"sk-estimator-id-106\" type=\"checkbox\" ><label for=\"sk-estimator-id-106\" class=\"sk-toggleable__label sk-toggleable__label-arrow\">preprocessor: ColumnTransformer</label><div class=\"sk-toggleable__content\"><pre>ColumnTransformer(transformers=[(&#x27;num&#x27;,\n",
       "                                 Pipeline(steps=[(&#x27;imputer&#x27;,\n",
       "                                                  SimpleImputer(strategy=&#x27;median&#x27;)),\n",
       "                                                 (&#x27;scaler&#x27;, StandardScaler())]),\n",
       "                                 [&#x27;num_de_empregados&#x27;, &#x27;ano_de_estabelecimento&#x27;,\n",
       "                                  &#x27;salario_prevalecente&#x27;]),\n",
       "                                (&#x27;cat&#x27;,\n",
       "                                 Pipeline(steps=[(&#x27;imputer&#x27;,\n",
       "                                                  SimpleImputer(fill_value=&#x27;missing&#x27;,\n",
       "                                                                strategy=&#x27;constant&#x27;)),\n",
       "                                                 (&#x27;enconder&#x27;,\n",
       "                                                  OneHotEncoder(handle_unknown=&#x27;ignore&#x27;,\n",
       "                                                                sparse=False))]),\n",
       "                                 [&#x27;continente&#x27;, &#x27;educacao_do_empregado&#x27;,\n",
       "                                  &#x27;tem_experiencia_de_trabalho&#x27;,\n",
       "                                  &#x27;requer_treinamento_de_trabalho&#x27;,\n",
       "                                  &#x27;regiao_de_emprego&#x27;, &#x27;unidade_de_salario&#x27;,\n",
       "                                  &#x27;posicao_em_tempo_integral&#x27;])])</pre></div></div></div><div class=\"sk-parallel\"><div class=\"sk-parallel-item\"><div class=\"sk-item\"><div class=\"sk-label-container\"><div class=\"sk-label sk-toggleable\"><input class=\"sk-toggleable__control sk-hidden--visually\" id=\"sk-estimator-id-107\" type=\"checkbox\" ><label for=\"sk-estimator-id-107\" class=\"sk-toggleable__label sk-toggleable__label-arrow\">num</label><div class=\"sk-toggleable__content\"><pre>[&#x27;num_de_empregados&#x27;, &#x27;ano_de_estabelecimento&#x27;, &#x27;salario_prevalecente&#x27;]</pre></div></div></div><div class=\"sk-serial\"><div class=\"sk-item\"><div class=\"sk-serial\"><div class=\"sk-item\"><div class=\"sk-estimator sk-toggleable\"><input class=\"sk-toggleable__control sk-hidden--visually\" id=\"sk-estimator-id-108\" type=\"checkbox\" ><label for=\"sk-estimator-id-108\" class=\"sk-toggleable__label sk-toggleable__label-arrow\">SimpleImputer</label><div class=\"sk-toggleable__content\"><pre>SimpleImputer(strategy=&#x27;median&#x27;)</pre></div></div></div><div class=\"sk-item\"><div class=\"sk-estimator sk-toggleable\"><input class=\"sk-toggleable__control sk-hidden--visually\" id=\"sk-estimator-id-109\" type=\"checkbox\" ><label for=\"sk-estimator-id-109\" class=\"sk-toggleable__label sk-toggleable__label-arrow\">StandardScaler</label><div class=\"sk-toggleable__content\"><pre>StandardScaler()</pre></div></div></div></div></div></div></div></div><div class=\"sk-parallel-item\"><div class=\"sk-item\"><div class=\"sk-label-container\"><div class=\"sk-label sk-toggleable\"><input class=\"sk-toggleable__control sk-hidden--visually\" id=\"sk-estimator-id-110\" type=\"checkbox\" ><label for=\"sk-estimator-id-110\" class=\"sk-toggleable__label sk-toggleable__label-arrow\">cat</label><div class=\"sk-toggleable__content\"><pre>[&#x27;continente&#x27;, &#x27;educacao_do_empregado&#x27;, &#x27;tem_experiencia_de_trabalho&#x27;, &#x27;requer_treinamento_de_trabalho&#x27;, &#x27;regiao_de_emprego&#x27;, &#x27;unidade_de_salario&#x27;, &#x27;posicao_em_tempo_integral&#x27;]</pre></div></div></div><div class=\"sk-serial\"><div class=\"sk-item\"><div class=\"sk-serial\"><div class=\"sk-item\"><div class=\"sk-estimator sk-toggleable\"><input class=\"sk-toggleable__control sk-hidden--visually\" id=\"sk-estimator-id-111\" type=\"checkbox\" ><label for=\"sk-estimator-id-111\" class=\"sk-toggleable__label sk-toggleable__label-arrow\">SimpleImputer</label><div class=\"sk-toggleable__content\"><pre>SimpleImputer(fill_value=&#x27;missing&#x27;, strategy=&#x27;constant&#x27;)</pre></div></div></div><div class=\"sk-item\"><div class=\"sk-estimator sk-toggleable\"><input class=\"sk-toggleable__control sk-hidden--visually\" id=\"sk-estimator-id-112\" type=\"checkbox\" ><label for=\"sk-estimator-id-112\" class=\"sk-toggleable__label sk-toggleable__label-arrow\">OneHotEncoder</label><div class=\"sk-toggleable__content\"><pre>OneHotEncoder(handle_unknown=&#x27;ignore&#x27;, sparse=False)</pre></div></div></div></div></div></div></div></div></div></div><div class=\"sk-item\"><div class=\"sk-estimator sk-toggleable\"><input class=\"sk-toggleable__control sk-hidden--visually\" id=\"sk-estimator-id-113\" type=\"checkbox\" ><label for=\"sk-estimator-id-113\" class=\"sk-toggleable__label sk-toggleable__label-arrow\">LogisticRegression</label><div class=\"sk-toggleable__content\"><pre>LogisticRegression()</pre></div></div></div></div></div></div></div>"
      ],
      "text/plain": [
       "Pipeline(steps=[('preprocessor',\n",
       "                 ColumnTransformer(transformers=[('num',\n",
       "                                                  Pipeline(steps=[('imputer',\n",
       "                                                                   SimpleImputer(strategy='median')),\n",
       "                                                                  ('scaler',\n",
       "                                                                   StandardScaler())]),\n",
       "                                                  ['num_de_empregados',\n",
       "                                                   'ano_de_estabelecimento',\n",
       "                                                   'salario_prevalecente']),\n",
       "                                                 ('cat',\n",
       "                                                  Pipeline(steps=[('imputer',\n",
       "                                                                   SimpleImputer(fill_value='missing',\n",
       "                                                                                 strategy='constant')),\n",
       "                                                                  ('enconder',\n",
       "                                                                   OneHotEncoder(handle_unknown='ignore',\n",
       "                                                                                 sparse=False))]),\n",
       "                                                  ['continente',\n",
       "                                                   'educacao_do_empregado',\n",
       "                                                   'tem_experiencia_de_trabalho',\n",
       "                                                   'requer_treinamento_de_trabalho',\n",
       "                                                   'regiao_de_emprego',\n",
       "                                                   'unidade_de_salario',\n",
       "                                                   'posicao_em_tempo_integral'])])),\n",
       "                ('model', LogisticRegression())])"
      ]
     },
     "execution_count": 130,
     "metadata": {},
     "output_type": "execute_result"
    }
   ],
   "source": [
    "# Aplicar o pipeline aos dados de treinamento\n",
    "X_train_preprocessed = clf[\"preprocessor\"].fit_transform(X_train)\n",
    "\n",
    "# Treinar o modelo\n",
    "clf.fit(X_train, y_train)"
   ]
  },
  {
   "cell_type": "code",
   "execution_count": 133,
   "id": "71eed07f",
   "metadata": {
    "scrolled": true
   },
   "outputs": [
    {
     "name": "stdout",
     "output_type": "stream",
     "text": [
      "Relatório de Classificação:\n",
      "              precision    recall  f1-score   support\n",
      "\n",
      "           0       0.77      0.87      0.82      2426\n",
      "           1       0.63      0.46      0.53      1142\n",
      "\n",
      "    accuracy                           0.74      3568\n",
      "   macro avg       0.70      0.67      0.68      3568\n",
      "weighted avg       0.73      0.74      0.73      3568\n",
      "\n"
     ]
    }
   ],
   "source": [
    "# Fazer previsões nos dados de teste\n",
    "y_pred = clf.predict(X_valid)\n",
    "\n",
    "# Obter relatório de classificação\n",
    "classification_report = classification_report(y_valid, y_pred)\n",
    "\n",
    "print(\"Relatório de Classificação:\")\n",
    "print(classification_report)"
   ]
  },
  {
   "cell_type": "code",
   "execution_count": 139,
   "id": "e4f21216",
   "metadata": {},
   "outputs": [
    {
     "data": {
      "text/plain": [
       "0.7664331822650996"
      ]
     },
     "execution_count": 139,
     "metadata": {},
     "output_type": "execute_result"
    }
   ],
   "source": [
    "from sklearn.metrics import roc_auc_score\n",
    "\n",
    "micro_roc_auc_ovr = roc_auc_score(\n",
    "    y_valid,\n",
    "    pred_y[:,1],\n",
    ")\n",
    "micro_roc_auc_ovr"
   ]
  },
  {
   "cell_type": "code",
   "execution_count": 140,
   "id": "aaa700f6",
   "metadata": {},
   "outputs": [],
   "source": [
    "data_test['status_do_caso'] = clf.predict(data_test)"
   ]
  },
  {
   "cell_type": "code",
   "execution_count": 141,
   "id": "f7614931",
   "metadata": {},
   "outputs": [],
   "source": [
    "submit_resp = data_test[['id_do_caso', 'status_do_caso']].replace({'status_do_caso': {'Aprovado':1, 'Negado':0}})"
   ]
  },
  {
   "cell_type": "code",
   "execution_count": 142,
   "id": "788f5c71",
   "metadata": {},
   "outputs": [
    {
     "data": {
      "text/html": [
       "<div>\n",
       "<style scoped>\n",
       "    .dataframe tbody tr th:only-of-type {\n",
       "        vertical-align: middle;\n",
       "    }\n",
       "\n",
       "    .dataframe tbody tr th {\n",
       "        vertical-align: top;\n",
       "    }\n",
       "\n",
       "    .dataframe thead th {\n",
       "        text-align: right;\n",
       "    }\n",
       "</style>\n",
       "<table border=\"1\" class=\"dataframe\">\n",
       "  <thead>\n",
       "    <tr style=\"text-align: right;\">\n",
       "      <th></th>\n",
       "      <th>id_do_caso</th>\n",
       "      <th>status_do_caso</th>\n",
       "    </tr>\n",
       "  </thead>\n",
       "  <tbody>\n",
       "    <tr>\n",
       "      <th>0</th>\n",
       "      <td>EZYV22339</td>\n",
       "      <td>0</td>\n",
       "    </tr>\n",
       "    <tr>\n",
       "      <th>1</th>\n",
       "      <td>EZYV9333</td>\n",
       "      <td>0</td>\n",
       "    </tr>\n",
       "    <tr>\n",
       "      <th>2</th>\n",
       "      <td>EZYV9740</td>\n",
       "      <td>0</td>\n",
       "    </tr>\n",
       "    <tr>\n",
       "      <th>3</th>\n",
       "      <td>EZYV3328</td>\n",
       "      <td>0</td>\n",
       "    </tr>\n",
       "    <tr>\n",
       "      <th>4</th>\n",
       "      <td>EZYV12321</td>\n",
       "      <td>0</td>\n",
       "    </tr>\n",
       "    <tr>\n",
       "      <th>...</th>\n",
       "      <td>...</td>\n",
       "      <td>...</td>\n",
       "    </tr>\n",
       "    <tr>\n",
       "      <th>7639</th>\n",
       "      <td>EZYV19907</td>\n",
       "      <td>1</td>\n",
       "    </tr>\n",
       "    <tr>\n",
       "      <th>7640</th>\n",
       "      <td>EZYV576</td>\n",
       "      <td>0</td>\n",
       "    </tr>\n",
       "    <tr>\n",
       "      <th>7641</th>\n",
       "      <td>EZYV1804</td>\n",
       "      <td>0</td>\n",
       "    </tr>\n",
       "    <tr>\n",
       "      <th>7642</th>\n",
       "      <td>EZYV13543</td>\n",
       "      <td>0</td>\n",
       "    </tr>\n",
       "    <tr>\n",
       "      <th>7643</th>\n",
       "      <td>EZYV17903</td>\n",
       "      <td>0</td>\n",
       "    </tr>\n",
       "  </tbody>\n",
       "</table>\n",
       "<p>7644 rows × 2 columns</p>\n",
       "</div>"
      ],
      "text/plain": [
       "     id_do_caso  status_do_caso\n",
       "0     EZYV22339               0\n",
       "1      EZYV9333               0\n",
       "2      EZYV9740               0\n",
       "3      EZYV3328               0\n",
       "4     EZYV12321               0\n",
       "...         ...             ...\n",
       "7639  EZYV19907               1\n",
       "7640    EZYV576               0\n",
       "7641   EZYV1804               0\n",
       "7642  EZYV13543               0\n",
       "7643  EZYV17903               0\n",
       "\n",
       "[7644 rows x 2 columns]"
      ]
     },
     "execution_count": 142,
     "metadata": {},
     "output_type": "execute_result"
    }
   ],
   "source": [
    "submit_resp"
   ]
  },
  {
   "cell_type": "code",
   "execution_count": 143,
   "id": "cdf481a9",
   "metadata": {},
   "outputs": [],
   "source": [
    "submit_resp.to_csv('submission.csv', index=False)"
   ]
  },
  {
   "cell_type": "code",
   "execution_count": null,
   "id": "259070c5",
   "metadata": {},
   "outputs": [],
   "source": []
  }
 ],
 "metadata": {
  "kernelspec": {
   "display_name": "Python 3 (ipykernel)",
   "language": "python",
   "name": "python3"
  },
  "language_info": {
   "codemirror_mode": {
    "name": "ipython",
    "version": 3
   },
   "file_extension": ".py",
   "mimetype": "text/x-python",
   "name": "python",
   "nbconvert_exporter": "python",
   "pygments_lexer": "ipython3",
   "version": "3.9.12"
  }
 },
 "nbformat": 4,
 "nbformat_minor": 5
}
